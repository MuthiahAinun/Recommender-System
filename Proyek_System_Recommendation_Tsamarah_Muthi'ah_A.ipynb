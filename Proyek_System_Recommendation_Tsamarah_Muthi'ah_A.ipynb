{
  "nbformat": 4,
  "nbformat_minor": 0,
  "metadata": {
    "colab": {
      "provenance": [],
      "gpuType": "V28",
      "include_colab_link": true
    },
    "kernelspec": {
      "name": "python3",
      "display_name": "Python 3"
    },
    "language_info": {
      "name": "python"
    },
    "accelerator": "TPU"
  },
  "cells": [
    {
      "cell_type": "markdown",
      "metadata": {
        "id": "view-in-github",
        "colab_type": "text"
      },
      "source": [
        "<a href=\"https://colab.research.google.com/github/MuthiahAinun/Recommender-System/blob/main/Proyek_System_Recommendation_Tsamarah_Muthi'ah_A.ipynb\" target=\"_parent\"><img src=\"https://colab.research.google.com/assets/colab-badge.svg\" alt=\"Open In Colab\"/></a>"
      ]
    },
    {
      "cell_type": "markdown",
      "source": [
        "# 📚Proyek Machine Learning- System Recommendation: [Movielens-dataset]\n",
        "- **Nama:** [Tsamarah Muthi'ah Abdullah]\n",
        "- **Email:** [a135xaf486@devacademy.id]\n",
        "- **ID Dicoding:** [a135xaf48]"
      ],
      "metadata": {
        "id": "tyy3LT61PKqY"
      }
    },
    {
      "cell_type": "markdown",
      "source": [
        "# Project Overview\n",
        "\n",
        "Sistem rekomendasi adalah salah satu aplikasi machine learning yang banyak digunakan dalam berbagai sektor, seperti e-commerce, layanan streaming, dan media sosial. Sistem ini dirancang untuk memberikan rekomendasi produk, layanan, atau konten kepada pengguna berdasarkan preferensi atau perilaku mereka. Pentingnya sistem rekomendasi terletak pada kemampuannya untuk meningkatkan pengalaman pengguna, memperkuat keterlibatan, serta mendorong peningkatan penjualan atau penggunaan layanan.\n",
        "\n",
        "Menurut penelitian oleh Ricci et al. (2015), sistem rekomendasi dapat meningkatkan pendapatan hingga 20% pada platform e-commerce. Selain itu, layanan streaming seperti Netflix melaporkan bahwa sekitar 80% dari penayangan didorong oleh algoritma rekomendasi (Gomez-Uribe & Hunt, 2015). Oleh karena itu, implementasi sistem rekomendasi merupakan aspek penting dalam dunia digital saat ini.\n",
        "\n",
        "Pada proyek ini, akan dikembangkan sistem rekomendasi menggunakan berbagai algoritma untuk membandingkan performa dan efektivitasnya. Fokus utama proyek ini adalah menyelesaikan permasalahan rekomendasi konten pada platform layanan media dengan menggunakan algoritma Collaborative Filtering dan Content-Based Filtering. Selain itu, dilakukan pendekatan Hybrid Filtering untuk menggabungkan kekuatan dari kedua metode tersebut guna menghasilkan rekomendasi yang lebih bervariasi dan mempertimbangkan baik popularitas maupun kesamaan konten.\n",
        "\n",
        "**Referensi:**\n",
        "\n",
        "- Ricci, F., Rokach, L., & Shapira, B. (2015). Recommender Systems Handbook. Springer.\n",
        "\n",
        "- Gomez-Uribe, C. A., & Hunt, N. (2015). The Netflix Recommender System: Algorithms, Business Value, and Innovation. ACM Transactions on Management Information Systems."
      ],
      "metadata": {
        "id": "OTllVGTrOugg"
      }
    },
    {
      "cell_type": "markdown",
      "source": [
        "# Business Understanding\n",
        "\n",
        "### **Problem Statements**\n",
        "\n",
        "1. Bagaimana meningkatkan keterlibatan pengguna dengan menyediakan rekomendasi film yang lebih personal dan sesuai dengan preferensi mereka?\n",
        "\n",
        "2. Bagaimana menciptakan sistem rekomendasi yang mampu meningkatkan loyalitas pelanggan dengan mempertimbangkan popularitas dan relevansi konten?\n",
        "\n",
        "3. Bagaimana mengembangkan strategi rekomendasi yang dapat mengoptimalkan pengalaman pengguna sekaligus meningkatkan potensi pendapatan bisnis melalui langganan atau iklan?\n",
        "\n",
        "### **Goals**\n",
        "\n",
        "1. Meningkatkan retensi pelanggan dengan menyediakan rekomendasi yang lebih akurat dan relevan untuk meningkatkan kepuasan pengguna.\n",
        "\n",
        "3. Mengembangkan sistem rekomendasi yang tidak hanya mempertimbangkan kesukaan pengguna tetapi juga memperhitungkan tren pasar dan popularitas konten untuk mendorong pertumbuhan bisnis.\n",
        "\n",
        "2. Mengevaluasi efektivitas strategi rekomendasi dalam meningkatkan keterlibatan pengguna dan konversi pelanggan, dengan tujuan mendukung pertumbuhan bisnis dan monetisasi platform secara optimal.\n",
        "\n",
        "### **Solution Approach**\n",
        "\n",
        "1. Menggunakan 2 algoritma utama, yaitu:\n",
        "\n",
        "  **A. Collaborative Filtering**\n",
        "\n",
        "  - Menggunakan pendekatan berbasis pengguna dan item untuk mengidentifikasi kesamaan antara pengguna atau film.\n",
        "\n",
        "  - Menggunakan teknik Singular Value Decomposition (SVD) untuk memprediksi rating film yang belum ditonton oleh pengguna.\n",
        "\n",
        "  - Menghasilkan rekomendasi film dengan memilih film dengan peringkat tertinggi dalam hasil prediksi.\n",
        "\n",
        " **B. Content-Based Filtering**\n",
        "\n",
        "  - Menggunakan fitur konten film (judul, genre) untuk menghasilkan rekomendasi.\n",
        "\n",
        "  - Menggunakan teknik TF-IDF (Term Frequency-Inverse Document Frequency) dan Cosine Similarity untuk mengukur kemiripan antar film.\n",
        "\n",
        "  - Memberikan rekomendasi film serupa dengan film tertentu yang dipilih pengguna.\n",
        "\n",
        "2. Menggabungkan kedua algoritma dengan metode Hybrid Filtering (CF + CBF)\n",
        "\n",
        "  - Menggabungkan hasil rekomendasi dari Collaborative Filtering dan Content-Based Filtering.\n",
        "\n",
        "  - Memastikan rekomendasi lebih bervariasi dan mempertimbangkan baik popularitas pengguna maupun kesamaan konten.\n",
        "\n",
        "3. Evaluasi Performa\n",
        "\n",
        "  - Menggunakan metrik seperti MSE, RMSE, dan MAE."
      ],
      "metadata": {
        "id": "A4sZFmllPLjY"
      }
    },
    {
      "cell_type": "markdown",
      "source": [
        "# **Import Library**"
      ],
      "metadata": {
        "id": "8AZC3nHcT5EZ"
      }
    },
    {
      "cell_type": "code",
      "source": [
        "import pandas as pd\n",
        "import numpy as np\n",
        "from sklearn.model_selection import train_test_split\n",
        "from sklearn.metrics.pairwise import cosine_similarity\n",
        "from sklearn.metrics import precision_score, recall_score, f1_score\n",
        "from sklearn.feature_extraction.text import TfidfVectorizer\n",
        "from scipy.sparse.linalg import svds\n",
        "import os"
      ],
      "metadata": {
        "id": "A8Tu9AwBT3Ne"
      },
      "execution_count": null,
      "outputs": []
    },
    {
      "cell_type": "markdown",
      "source": [
        "# **Data Understanding**\n",
        "\n",
        "Dataset yang digunakan pada proyek ini berasal dari MovieLens 100K (https://grouplens.org/datasets/movielens/100k/), yang berisi data rating film oleh pengguna. Dataset ini terdiri dari beberapa file utama, yaitu:\n",
        "\n",
        "- u.data: berisi data rating pengguna terhadap film.\n",
        "\n",
        "- u.item: berisi informasi mengenai judul film dan genre.\n",
        "\n",
        "- u.user: berisi informasi pengguna.\n",
        "\n",
        "- u.genre: berisi daftar genre.\n",
        "\n",
        "Dataset ini berisi 100.000 rating dari 943 pengguna terhadap 1.682 film. Data ini mencakup informasi mengenai ID pengguna, ID film, rating, dan timestamp.\n",
        "\n",
        "Kondisi dataset 'movies' memiliki beberapa nilai hilang, terutama pada kolom release_date (1 nilai hilang), video_release_date (1.682 nilai hilang), dan IMDb_URL (3 nilai hilang). Sementara itu, dataset 'ratings', 'genres', dan 'users' tidak memiliki nilai hilang."
      ],
      "metadata": {
        "id": "EqZZTi5KS5Am"
      }
    },
    {
      "cell_type": "markdown",
      "source": [
        "**Berikut adalah uraian variabel-variabel atau fitur pada tiap dataset:**\n",
        "\n",
        "**1. Dataset Ratings**\n",
        "- userId: Merupakan ID unik dari pengguna yang memberikan rating terhadap film.\n",
        "\n",
        "- movieId: Merupakan ID unik dari film yang diberi rating oleh pengguna.\n",
        "\n",
        "- rating: Merupakan nilai penilaian yang diberikan oleh pengguna terhadap film, dengan rentang 1 hingga 5.\n",
        "\n",
        "- timestamp: Merupakan waktu saat pengguna memberikan rating, disimpan dalam format Unix timestamp."
      ],
      "metadata": {
        "id": "VS1A9D_gfovK"
      }
    },
    {
      "cell_type": "markdown",
      "source": [
        "**2. Dataset Movies**\n",
        "- movieId: Merupakan ID unik dari film.\n",
        "\n",
        "- video_release_date: Tanggal rilis video dari film tersebut (tidak ada data pada contoh).\n",
        "\n",
        "- unknown: Variabel biner yang menunjukkan apakah genre film tidak diketahui (1 jika ya, 0 jika tidak).\n",
        "\n",
        "- Action: Variabel biner yang menunjukkan apakah film bergenre aksi (1 jika ya, 0 jika tidak).\n",
        "\n",
        "- Adventure: Variabel biner yang menunjukkan apakah film bergenre petualangan (1 jika ya, 0 jika tidak).\n",
        "\n",
        "- Animation: Variabel biner yang menunjukkan apakah film bergenre animasi (1 jika ya, 0 jika tidak).\n",
        "\n",
        "- Children: Variabel biner yang menunjukkan apakah film ditujukan untuk anak-anak (1 jika ya, 0 jika tidak).\n",
        "\n",
        "- Comedy: Variabel biner yang menunjukkan apakah film bergenre komedi (1 jika ya, 0 jika tidak).\n",
        "\n",
        "- Crime: Variabel biner yang menunjukkan apakah film bergenre kriminal (1 jika ya, 0 jika tidak).\n",
        "\n",
        "- Documentary: Variabel biner yang menunjukkan apakah film bergenre dokumenter (1 jika ya, 0 jika tidak).\n",
        "\n",
        "- Drama: Variabel biner yang menunjukkan apakah film bergenre drama (1 jika ya, 0 jika tidak).\n",
        "\n",
        "- Fantasy: Variabel biner yang menunjukkan apakah film bergenre fantasi (1 jika ya, 0 jika tidak).\n",
        "\n",
        "- Film-Noir: Variabel biner yang menunjukkan apakah film bergenre noir (1 jika ya, 0 jika tidak).\n",
        "\n",
        "- Horror: Variabel biner yang menunjukkan apakah film bergenre horor (1 jika ya, 0 jika tidak).\n",
        "\n",
        "- Musical: Variabel biner yang menunjukkan apakah film bergenre musikal (1 jika ya, 0 jika tidak).\n",
        "\n",
        "- Mystery: Variabel biner yang menunjukkan apakah film bergenre misteri (1 jika ya, 0 jika tidak).\n",
        "\n",
        "- Romance: Variabel biner yang menunjukkan apakah film bergenre romantis (1 jika ya, 0 jika tidak).\n",
        "\n",
        "- Sci-Fi: Variabel biner yang menunjukkan apakah film bergenre fiksi ilmiah (1 jika ya, 0 jika tidak).\n",
        "\n",
        "- Thriller: Variabel biner yang menunjukkan apakah film bergenre thriller (1 jika ya, 0 jika tidak).\n",
        "\n",
        "- War: Variabel biner yang menunjukkan apakah film bergenre perang (1 jika ya, 0 jika tidak).\n",
        "\n",
        "- Western: Variabel biner yang menunjukkan apakah film bergenre barat atau koboi (1 jika ya, 0 jika tidak)."
      ],
      "metadata": {
        "id": "-VyfFWtjpF72"
      }
    },
    {
      "cell_type": "markdown",
      "source": [
        "**3. Dataset Users**\n",
        "- userId: Merupakan ID unik dari pengguna dalam dataset.\n",
        "\n",
        "- age: Merupakan usia pengguna dalam satuan tahun.\n",
        "\n"
      ],
      "metadata": {
        "id": "z0mZ_14OpJhs"
      }
    },
    {
      "cell_type": "markdown",
      "source": [
        "**4. Dataset Genres**\n",
        "- genreId: Merupakan ID unik dari genre film."
      ],
      "metadata": {
        "id": "m3fAscynpQZi"
      }
    },
    {
      "cell_type": "code",
      "source": [
        "# Fungsi untuk mengubah .u file to CSV\n",
        "def convert_u_to_csv(file_path, delimiter, columns, csv_name, encoding='ISO-8859-1'):\n",
        "    df = pd.read_csv(file_path, delimiter=delimiter, header=None, engine='python', encoding=encoding)\n",
        "    df.columns = columns\n",
        "    csv_path = csv_name\n",
        "    df.to_csv(csv_path, index=False)\n",
        "    print(f'File {file_path} successfully converted to {csv_path}')\n",
        "    return csv_path"
      ],
      "metadata": {
        "id": "MFPb3auHTfzg"
      },
      "execution_count": null,
      "outputs": []
    },
    {
      "cell_type": "code",
      "source": [
        "# Mengubah u.data file to CSV\n",
        "ratings_path = convert_u_to_csv('u.data', '\t', ['userId', 'movieId', 'rating', 'timestamp'], 'ratings.csv')"
      ],
      "metadata": {
        "colab": {
          "base_uri": "https://localhost:8080/"
        },
        "id": "H71-RGciVNMu",
        "outputId": "31922087-42b1-407a-ec1e-b387bbb614de"
      },
      "execution_count": null,
      "outputs": [
        {
          "output_type": "stream",
          "name": "stdout",
          "text": [
            "File u.data successfully converted to ratings.csv\n"
          ]
        }
      ]
    },
    {
      "cell_type": "code",
      "source": [
        "# Mengubah u.item file to CSV\n",
        "movies_path = convert_u_to_csv('u.item', '|', ['movieId', 'title', 'release_date', 'video_release_date', 'IMDb_URL', 'unknown', 'Action', 'Adventure', 'Animation', 'Children', 'Comedy', 'Crime', 'Documentary', 'Drama', 'Fantasy', 'Film-Noir', 'Horror', 'Musical', 'Mystery', 'Romance', 'Sci-Fi', 'Thriller', 'War', 'Western'], 'movies.csv')"
      ],
      "metadata": {
        "colab": {
          "base_uri": "https://localhost:8080/"
        },
        "id": "L-hcDpqiVNA8",
        "outputId": "b5a32951-d4df-4045-f330-9582d98c117b"
      },
      "execution_count": null,
      "outputs": [
        {
          "output_type": "stream",
          "name": "stdout",
          "text": [
            "File u.item successfully converted to movies.csv\n"
          ]
        }
      ]
    },
    {
      "cell_type": "code",
      "source": [
        "# Mengubah u.user file to CSV\n",
        "users_path = convert_u_to_csv('u.user', '|', ['userId', 'age', 'gender', 'occupation', 'zip_code'], 'users.csv')"
      ],
      "metadata": {
        "colab": {
          "base_uri": "https://localhost:8080/"
        },
        "id": "ukeoVFibVM2_",
        "outputId": "cd32e5cf-0fb6-49e3-b69d-5fe093614e62"
      },
      "execution_count": null,
      "outputs": [
        {
          "output_type": "stream",
          "name": "stdout",
          "text": [
            "File u.user successfully converted to users.csv\n"
          ]
        }
      ]
    },
    {
      "cell_type": "code",
      "source": [
        "# Mengubah u.genre file to CSV\n",
        "genre_path = convert_u_to_csv('u.genre', '|', ['genre', 'genreId'], 'genres.csv')"
      ],
      "metadata": {
        "colab": {
          "base_uri": "https://localhost:8080/"
        },
        "id": "b2TgFcqQVMnn",
        "outputId": "c235b70e-7fd0-43bf-a8e1-5e5eb22cb129"
      },
      "execution_count": null,
      "outputs": [
        {
          "output_type": "stream",
          "name": "stdout",
          "text": [
            "File u.genre successfully converted to genres.csv\n"
          ]
        }
      ]
    },
    {
      "cell_type": "code",
      "source": [
        "# Memuat dataset\n",
        "ratings = pd.read_csv(\"ratings.csv\")\n",
        "movies = pd.read_csv(\"movies.csv\")\n",
        "users = pd.read_csv(\"users.csv\")\n",
        "genres = pd.read_csv(\"genres.csv\")"
      ],
      "metadata": {
        "id": "6YoJf2-3YkEH"
      },
      "execution_count": null,
      "outputs": []
    },
    {
      "cell_type": "code",
      "source": [
        "# Melihat informasi umum tentang dataset\n",
        "print(\"\\nInfo Dataset Ratings:\")\n",
        "print(ratings.info())"
      ],
      "metadata": {
        "colab": {
          "base_uri": "https://localhost:8080/"
        },
        "id": "dF1M1HB8YoQ8",
        "outputId": "55fb228f-7b11-4868-bbf8-0b76af682cda"
      },
      "execution_count": null,
      "outputs": [
        {
          "output_type": "stream",
          "name": "stdout",
          "text": [
            "\n",
            "Info Dataset Ratings:\n",
            "<class 'pandas.core.frame.DataFrame'>\n",
            "RangeIndex: 100000 entries, 0 to 99999\n",
            "Data columns (total 4 columns):\n",
            " #   Column     Non-Null Count   Dtype\n",
            "---  ------     --------------   -----\n",
            " 0   userId     100000 non-null  int64\n",
            " 1   movieId    100000 non-null  int64\n",
            " 2   rating     100000 non-null  int64\n",
            " 3   timestamp  100000 non-null  int64\n",
            "dtypes: int64(4)\n",
            "memory usage: 3.1 MB\n",
            "None\n"
          ]
        }
      ]
    },
    {
      "cell_type": "markdown",
      "source": [
        "**✨Dataset Ratings**\n",
        "- Jumlah Data: 100.000 entri\n",
        "\n",
        "- Jumlah Kolom: 4 kolom (userId, movieId, rating, timestamp)\n",
        "\n",
        "- Tipe Data: Seluruh kolom bertipe int64\n",
        "\n",
        "- Ukuran Memori: 3.1 MB\n",
        "\n",
        "- **Insight:** Dataset ini merepresentasikan data rating film dari pengguna. Setiap entri berisi informasi tentang ID pengguna, ID film, rating yang diberikan, dan timestamp kapan rating diberikan. Data lengkap tanpa ada nilai kosong."
      ],
      "metadata": {
        "id": "bA7Vn-FeZ4gB"
      }
    },
    {
      "cell_type": "code",
      "source": [
        "print(\"\\nInfo Dataset Movies:\")\n",
        "print(movies.info())"
      ],
      "metadata": {
        "colab": {
          "base_uri": "https://localhost:8080/"
        },
        "id": "7fPhW5BOYvH8",
        "outputId": "1222be4c-2fbc-480b-aa0e-16ec392c37ec"
      },
      "execution_count": null,
      "outputs": [
        {
          "output_type": "stream",
          "name": "stdout",
          "text": [
            "\n",
            "Info Dataset Movies:\n",
            "<class 'pandas.core.frame.DataFrame'>\n",
            "RangeIndex: 1682 entries, 0 to 1681\n",
            "Data columns (total 24 columns):\n",
            " #   Column              Non-Null Count  Dtype  \n",
            "---  ------              --------------  -----  \n",
            " 0   movieId             1682 non-null   int64  \n",
            " 1   title               1682 non-null   object \n",
            " 2   release_date        1681 non-null   object \n",
            " 3   video_release_date  0 non-null      float64\n",
            " 4   IMDb_URL            1679 non-null   object \n",
            " 5   unknown             1682 non-null   int64  \n",
            " 6   Action              1682 non-null   int64  \n",
            " 7   Adventure           1682 non-null   int64  \n",
            " 8   Animation           1682 non-null   int64  \n",
            " 9   Children            1682 non-null   int64  \n",
            " 10  Comedy              1682 non-null   int64  \n",
            " 11  Crime               1682 non-null   int64  \n",
            " 12  Documentary         1682 non-null   int64  \n",
            " 13  Drama               1682 non-null   int64  \n",
            " 14  Fantasy             1682 non-null   int64  \n",
            " 15  Film-Noir           1682 non-null   int64  \n",
            " 16  Horror              1682 non-null   int64  \n",
            " 17  Musical             1682 non-null   int64  \n",
            " 18  Mystery             1682 non-null   int64  \n",
            " 19  Romance             1682 non-null   int64  \n",
            " 20  Sci-Fi              1682 non-null   int64  \n",
            " 21  Thriller            1682 non-null   int64  \n",
            " 22  War                 1682 non-null   int64  \n",
            " 23  Western             1682 non-null   int64  \n",
            "dtypes: float64(1), int64(20), object(3)\n",
            "memory usage: 315.5+ KB\n",
            "None\n"
          ]
        }
      ]
    },
    {
      "cell_type": "markdown",
      "source": [
        "**📹Dataset Movies**\n",
        "- Jumlah Data: 1.682 entri\n",
        "\n",
        "- Jumlah Kolom: 24 kolom\n",
        "\n",
        "- Kolom Penting: movieId, title, release_date, IMDb_URL, dan 19 kolom genre\n",
        "\n",
        "- Tipe Data:\n",
        "\n",
        "  - int64 pada ID dan genre\n",
        "\n",
        "  - object pada judul, tanggal rilis, dan URL\n",
        "\n",
        "  - float64 pada video_release_date (seluruhnya kosong)\n",
        "\n",
        "- Ukuran Memori: 315.5 KB\n",
        "\n",
        "- **Insight:** Dataset ini menyimpan informasi detail tentang film, termasuk judul, tanggal rilis, URL IMDb, dan genre. Kolom video_release_date tidak memiliki data sama sekali, sehingga dapat diabaikan. Setiap film memiliki 19 kolom genre dengan nilai biner (0 atau 1) yang menunjukkan genre film tersebut."
      ],
      "metadata": {
        "id": "zpt-RnNeaJgb"
      }
    },
    {
      "cell_type": "code",
      "source": [
        "print(\"\\nInfo Dataset Users:\")\n",
        "print(users.info())"
      ],
      "metadata": {
        "colab": {
          "base_uri": "https://localhost:8080/"
        },
        "id": "YUs2vXQcYw3p",
        "outputId": "7a15626f-de81-4a58-a796-77b095e4bb30"
      },
      "execution_count": null,
      "outputs": [
        {
          "output_type": "stream",
          "name": "stdout",
          "text": [
            "\n",
            "Info Dataset Users:\n",
            "<class 'pandas.core.frame.DataFrame'>\n",
            "RangeIndex: 943 entries, 0 to 942\n",
            "Data columns (total 5 columns):\n",
            " #   Column      Non-Null Count  Dtype \n",
            "---  ------      --------------  ----- \n",
            " 0   userId      943 non-null    int64 \n",
            " 1   age         943 non-null    int64 \n",
            " 2   gender      943 non-null    object\n",
            " 3   occupation  943 non-null    object\n",
            " 4   zip_code    943 non-null    object\n",
            "dtypes: int64(2), object(3)\n",
            "memory usage: 37.0+ KB\n",
            "None\n"
          ]
        }
      ]
    },
    {
      "cell_type": "markdown",
      "source": [
        "**👥Dataset Users**\n",
        "- Jumlah Data: 943 entri\n",
        "\n",
        "- Jumlah Kolom: 5 kolom (userId, age, gender, occupation, zip_code)\n",
        "\n",
        "- Tipe Data:\n",
        "\n",
        "  - int64 pada ID dan usia\n",
        "\n",
        "  - object pada gender, pekerjaan, dan kode pos\n",
        "\n",
        "- Ukuran Memori: 37.0 KB\n",
        "\n",
        "- **Insight:** Dataset ini berisi informasi demografi pengguna, termasuk usia, jenis kelamin, pekerjaan, dan kode pos. Data lengkap tanpa ada nilai kosong."
      ],
      "metadata": {
        "id": "RRb57u5kayXl"
      }
    },
    {
      "cell_type": "code",
      "source": [
        "print(\"\\nInfo Dataset Genres:\")\n",
        "print(genres.info())"
      ],
      "metadata": {
        "colab": {
          "base_uri": "https://localhost:8080/"
        },
        "id": "tlbDj0STYyVC",
        "outputId": "84129076-13b2-45ea-fa13-51b132a76a9d"
      },
      "execution_count": null,
      "outputs": [
        {
          "output_type": "stream",
          "name": "stdout",
          "text": [
            "\n",
            "Info Dataset Genres:\n",
            "<class 'pandas.core.frame.DataFrame'>\n",
            "RangeIndex: 19 entries, 0 to 18\n",
            "Data columns (total 2 columns):\n",
            " #   Column   Non-Null Count  Dtype \n",
            "---  ------   --------------  ----- \n",
            " 0   genre    19 non-null     object\n",
            " 1   genreId  19 non-null     int64 \n",
            "dtypes: int64(1), object(1)\n",
            "memory usage: 436.0+ bytes\n",
            "None\n"
          ]
        }
      ]
    },
    {
      "cell_type": "markdown",
      "source": [
        "**🎞️Dataset Genres**\n",
        "- Jumlah Data: 19 entri\n",
        "\n",
        "- Jumlah Kolom: 2 kolom (genre, genreId)\n",
        "\n",
        "- Tipe Data:\n",
        "\n",
        "  - object pada nama genre\n",
        "\n",
        "  - int64 pada ID genre\n",
        "\n",
        "- Ukuran Memori: 436 bytes\n",
        "\n",
        "- **Insight:** Dataset ini mendefinisikan genre film dengan ID unik untuk setiap genre."
      ],
      "metadata": {
        "id": "X5vuRMyubPOM"
      }
    },
    {
      "cell_type": "code",
      "source": [
        "# Statistik Deskriptif\n",
        "print(\"\\nStatistik Deskriptif Ratings:\")\n",
        "print(ratings.describe())"
      ],
      "metadata": {
        "colab": {
          "base_uri": "https://localhost:8080/"
        },
        "id": "BpqKLAWtY5Nm",
        "outputId": "92c025e7-a93e-410f-b61f-461b2592adba"
      },
      "execution_count": null,
      "outputs": [
        {
          "output_type": "stream",
          "name": "stdout",
          "text": [
            "\n",
            "Statistik Deskriptif Ratings:\n",
            "             userId        movieId         rating     timestamp\n",
            "count  100000.00000  100000.000000  100000.000000  1.000000e+05\n",
            "mean      462.48475     425.530130       3.529860  8.835289e+08\n",
            "std       266.61442     330.798356       1.125674  5.343856e+06\n",
            "min         1.00000       1.000000       1.000000  8.747247e+08\n",
            "25%       254.00000     175.000000       3.000000  8.794487e+08\n",
            "50%       447.00000     322.000000       4.000000  8.828269e+08\n",
            "75%       682.00000     631.000000       4.000000  8.882600e+08\n",
            "max       943.00000    1682.000000       5.000000  8.932866e+08\n"
          ]
        }
      ]
    },
    {
      "cell_type": "markdown",
      "source": [
        "**Insight Statistik Deskriptif Ratings:**\n",
        "\n",
        "1. Sebagian besar rating berada di kisaran 3 hingga 4, dengan nilai rata-rata 3.53.\n",
        "\n",
        "2. Rating minimum adalah 1 dan maksimum adalah 5, menunjukkan adanya variasi pendapat pengguna terhadap film.\n",
        "\n",
        "3. User ID tersebar secara merata dari 1 hingga 943, menunjukkan banyaknya pengguna yang memberikan rating.\n",
        "\n",
        "4. Waktu pemberian rating berkisar dalam rentang waktu yang cukup luas."
      ],
      "metadata": {
        "id": "yQ6WBMcpb6-5"
      }
    },
    {
      "cell_type": "code",
      "source": [
        "print(\"\\nStatistik Deskriptif Movies:\")\n",
        "print(movies.describe())"
      ],
      "metadata": {
        "colab": {
          "base_uri": "https://localhost:8080/"
        },
        "id": "1T7eT0lbY8ix",
        "outputId": "4c25762a-9bb8-492c-9309-b675a82c7338"
      },
      "execution_count": null,
      "outputs": [
        {
          "output_type": "stream",
          "name": "stdout",
          "text": [
            "\n",
            "Statistik Deskriptif Movies:\n",
            "           movieId  video_release_date      unknown       Action    Adventure  \\\n",
            "count  1682.000000                 0.0  1682.000000  1682.000000  1682.000000   \n",
            "mean    841.500000                 NaN     0.001189     0.149227     0.080262   \n",
            "std     485.695893                 NaN     0.034473     0.356418     0.271779   \n",
            "min       1.000000                 NaN     0.000000     0.000000     0.000000   \n",
            "25%     421.250000                 NaN     0.000000     0.000000     0.000000   \n",
            "50%     841.500000                 NaN     0.000000     0.000000     0.000000   \n",
            "75%    1261.750000                 NaN     0.000000     0.000000     0.000000   \n",
            "max    1682.000000                 NaN     1.000000     1.000000     1.000000   \n",
            "\n",
            "         Animation     Children       Comedy        Crime  Documentary  ...  \\\n",
            "count  1682.000000  1682.000000  1682.000000  1682.000000  1682.000000  ...   \n",
            "mean      0.024970     0.072533     0.300238     0.064804     0.029727  ...   \n",
            "std       0.156081     0.259445     0.458498     0.246253     0.169882  ...   \n",
            "min       0.000000     0.000000     0.000000     0.000000     0.000000  ...   \n",
            "25%       0.000000     0.000000     0.000000     0.000000     0.000000  ...   \n",
            "50%       0.000000     0.000000     0.000000     0.000000     0.000000  ...   \n",
            "75%       0.000000     0.000000     1.000000     0.000000     0.000000  ...   \n",
            "max       1.000000     1.000000     1.000000     1.000000     1.000000  ...   \n",
            "\n",
            "          Fantasy    Film-Noir       Horror      Musical      Mystery  \\\n",
            "count  1682.00000  1682.000000  1682.000000  1682.000000  1682.000000   \n",
            "mean      0.01308     0.014269     0.054697     0.033294     0.036266   \n",
            "std       0.11365     0.118632     0.227455     0.179456     0.187008   \n",
            "min       0.00000     0.000000     0.000000     0.000000     0.000000   \n",
            "25%       0.00000     0.000000     0.000000     0.000000     0.000000   \n",
            "50%       0.00000     0.000000     0.000000     0.000000     0.000000   \n",
            "75%       0.00000     0.000000     0.000000     0.000000     0.000000   \n",
            "max       1.00000     1.000000     1.000000     1.000000     1.000000   \n",
            "\n",
            "           Romance       Sci-Fi     Thriller          War      Western  \n",
            "count  1682.000000  1682.000000  1682.000000  1682.000000  1682.000000  \n",
            "mean      0.146849     0.060048     0.149227     0.042212     0.016052  \n",
            "std       0.354061     0.237646     0.356418     0.201131     0.125714  \n",
            "min       0.000000     0.000000     0.000000     0.000000     0.000000  \n",
            "25%       0.000000     0.000000     0.000000     0.000000     0.000000  \n",
            "50%       0.000000     0.000000     0.000000     0.000000     0.000000  \n",
            "75%       0.000000     0.000000     0.000000     0.000000     0.000000  \n",
            "max       1.000000     1.000000     1.000000     1.000000     1.000000  \n",
            "\n",
            "[8 rows x 21 columns]\n"
          ]
        }
      ]
    },
    {
      "cell_type": "markdown",
      "source": [
        "**Insight Statistik Deskriptif Movies:**\n",
        "\n",
        "1. Terdapat 1.682 film dengan berbagai genre.\n",
        "\n",
        "2. Genre paling umum adalah Comedy (30%), diikuti Action (15%) dan Romance (14.7%).\n",
        "\n",
        "3. Beberapa genre sangat jarang muncul, seperti Fantasy (1.3%), Film-Noir (1.4%), dan Western (1.6%)."
      ],
      "metadata": {
        "id": "4nCX--qPcFUq"
      }
    },
    {
      "cell_type": "code",
      "source": [
        "print(\"\\nStatistik Deskriptif Users:\")\n",
        "print(users.describe())"
      ],
      "metadata": {
        "colab": {
          "base_uri": "https://localhost:8080/"
        },
        "id": "6R8fCO7hY8XG",
        "outputId": "147ecd35-78d3-4b88-8d7f-b0b2a7cea363"
      },
      "execution_count": null,
      "outputs": [
        {
          "output_type": "stream",
          "name": "stdout",
          "text": [
            "\n",
            "Statistik Deskriptif Users:\n",
            "           userId         age\n",
            "count  943.000000  943.000000\n",
            "mean   472.000000   34.051962\n",
            "std    272.364951   12.192740\n",
            "min      1.000000    7.000000\n",
            "25%    236.500000   25.000000\n",
            "50%    472.000000   31.000000\n",
            "75%    707.500000   43.000000\n",
            "max    943.000000   73.000000\n"
          ]
        }
      ]
    },
    {
      "cell_type": "markdown",
      "source": [
        "**Insight Statistik Deskriptif Users:**\n",
        "\n",
        "1. Terdapat 943 pengguna dengan rentang usia dari 7 hingga 73 tahun.\n",
        "\n",
        "2. Rata-rata usia pengguna adalah sekitar 34 tahun, menunjukkan dominasi pengguna dewasa muda.\n",
        "\n",
        "3. Mayoritas pengguna berusia antara 25 hingga 43 tahun, yang merupakan segmen pengguna paling aktif."
      ],
      "metadata": {
        "id": "QuY4C7sQcTYX"
      }
    },
    {
      "cell_type": "code",
      "source": [
        "print(\"\\nStatistik Deskriptif Genres:\")\n",
        "print(genres.describe())"
      ],
      "metadata": {
        "colab": {
          "base_uri": "https://localhost:8080/"
        },
        "id": "RgsXV22yZAPO",
        "outputId": "e300a09e-c60a-436b-d872-86be39a53378"
      },
      "execution_count": null,
      "outputs": [
        {
          "output_type": "stream",
          "name": "stdout",
          "text": [
            "\n",
            "Statistik Deskriptif Genres:\n",
            "         genreId\n",
            "count  19.000000\n",
            "mean    9.000000\n",
            "std     5.627314\n",
            "min     0.000000\n",
            "25%     4.500000\n",
            "50%     9.000000\n",
            "75%    13.500000\n",
            "max    18.000000\n"
          ]
        }
      ]
    },
    {
      "cell_type": "markdown",
      "source": [
        "**Insight Statistik Deskriptif Genres:**\n",
        "\n",
        "1. Terdapat 19 genre film dalam dataset.\n",
        "\n",
        "2. Genre dengan ID maksimum adalah 18, sementara ID minimum adalah 0, menandakan adanya berbagai macam kategori film.\n",
        "\n",
        "3. Genre rata-rata memiliki ID di sekitar angka 9, dengan variasi yang cukup besar."
      ],
      "metadata": {
        "id": "maIHdDFXcikE"
      }
    },
    {
      "cell_type": "markdown",
      "source": [
        "# **Data Preparation**"
      ],
      "metadata": {
        "id": "SHuLJAbcd5FY"
      }
    },
    {
      "cell_type": "markdown",
      "source": [
        "Pada tahap ini, dilakukan pengecekan dan penanganan data hilang, serta transformasi data.\n",
        "Mengapa Tahap Data Preparation Diperlukan:\n",
        "1. Mengatasi data yang hilang agar tidak mengganggu proses analisis dan model.\n",
        "2. Melakukan transformasi agar data lebih terstruktur dan dapat digunakan oleh model.\n",
        "3. Menghasilkan data yang lebih konsisten dan bebas dari error yang dapat mempengaruhi hasil prediksi.\n",
        "4. Meningkatkan akurasi dan kinerja model dengan data yang bersih dan terstruktur."
      ],
      "metadata": {
        "id": "n6LBl3A9eBuy"
      }
    },
    {
      "cell_type": "code",
      "source": [
        "# Mengecek nilai hilang pada setiap kolom\n",
        "def check_missing_values(df):\n",
        "    print(\"\\nJumlah nilai hilang per kolom:\")\n",
        "    print(df.isnull().sum())"
      ],
      "metadata": {
        "id": "Vo6uoVjJdTUk"
      },
      "execution_count": null,
      "outputs": []
    },
    {
      "cell_type": "code",
      "source": [
        "print(\"\\nPengecekan Nilai Hilang pada Ratings:\")\n",
        "check_missing_values(ratings)"
      ],
      "metadata": {
        "colab": {
          "base_uri": "https://localhost:8080/"
        },
        "id": "pZTa1NHodVcn",
        "outputId": "643fdd64-e792-415d-d11b-aecd8aca8514"
      },
      "execution_count": null,
      "outputs": [
        {
          "output_type": "stream",
          "name": "stdout",
          "text": [
            "\n",
            "Pengecekan Nilai Hilang pada Ratings:\n",
            "\n",
            "Jumlah nilai hilang per kolom:\n",
            "userId       0\n",
            "movieId      0\n",
            "rating       0\n",
            "timestamp    0\n",
            "dtype: int64\n"
          ]
        }
      ]
    },
    {
      "cell_type": "code",
      "source": [
        "print(\"\\nPengecekan Nilai Hilang pada Movies:\")\n",
        "check_missing_values(movies)"
      ],
      "metadata": {
        "colab": {
          "base_uri": "https://localhost:8080/"
        },
        "id": "kfgnR2spdVTk",
        "outputId": "25913516-73b8-4b5f-b349-f174ca9b567c"
      },
      "execution_count": null,
      "outputs": [
        {
          "output_type": "stream",
          "name": "stdout",
          "text": [
            "\n",
            "Pengecekan Nilai Hilang pada Movies:\n",
            "\n",
            "Jumlah nilai hilang per kolom:\n",
            "movieId                  0\n",
            "title                    0\n",
            "release_date             1\n",
            "video_release_date    1682\n",
            "IMDb_URL                 3\n",
            "unknown                  0\n",
            "Action                   0\n",
            "Adventure                0\n",
            "Animation                0\n",
            "Children                 0\n",
            "Comedy                   0\n",
            "Crime                    0\n",
            "Documentary              0\n",
            "Drama                    0\n",
            "Fantasy                  0\n",
            "Film-Noir                0\n",
            "Horror                   0\n",
            "Musical                  0\n",
            "Mystery                  0\n",
            "Romance                  0\n",
            "Sci-Fi                   0\n",
            "Thriller                 0\n",
            "War                      0\n",
            "Western                  0\n",
            "dtype: int64\n"
          ]
        }
      ]
    },
    {
      "cell_type": "code",
      "source": [
        "print(\"\\nPengecekan Nilai Hilang pada Users:\")\n",
        "check_missing_values(users)"
      ],
      "metadata": {
        "colab": {
          "base_uri": "https://localhost:8080/"
        },
        "id": "oGCGCyHMdVJ2",
        "outputId": "3119ed2d-dfab-4c85-9c1d-34d5fbbeac49"
      },
      "execution_count": null,
      "outputs": [
        {
          "output_type": "stream",
          "name": "stdout",
          "text": [
            "\n",
            "Pengecekan Nilai Hilang pada Users:\n",
            "\n",
            "Jumlah nilai hilang per kolom:\n",
            "userId        0\n",
            "age           0\n",
            "gender        0\n",
            "occupation    0\n",
            "zip_code      0\n",
            "dtype: int64\n"
          ]
        }
      ]
    },
    {
      "cell_type": "code",
      "source": [
        "print(\"\\nPengecekan Nilai Hilang pada Genres:\")\n",
        "check_missing_values(genres)"
      ],
      "metadata": {
        "colab": {
          "base_uri": "https://localhost:8080/"
        },
        "id": "qvu2WNltdajn",
        "outputId": "30c0f0dc-0d38-45cc-d36f-83a4823385c4"
      },
      "execution_count": null,
      "outputs": [
        {
          "output_type": "stream",
          "name": "stdout",
          "text": [
            "\n",
            "Pengecekan Nilai Hilang pada Genres:\n",
            "\n",
            "Jumlah nilai hilang per kolom:\n",
            "genre      0\n",
            "genreId    0\n",
            "dtype: int64\n"
          ]
        }
      ]
    },
    {
      "cell_type": "code",
      "source": [
        "# Informasi Statistik untuk Kolom dengan Nilai Hilang pada Movies\n",
        "print('\\nInformasi Statistik pada Kolom dengan Nilai Hilang pada Movies:')\n",
        "print(movies[['release_date', 'video_release_date', 'IMDb_URL']].describe(include='all'))"
      ],
      "metadata": {
        "colab": {
          "base_uri": "https://localhost:8080/"
        },
        "id": "DVmaq8jJqVPe",
        "outputId": "e63423ec-5823-4a5a-dd51-9b766cc5be71"
      },
      "execution_count": null,
      "outputs": [
        {
          "output_type": "stream",
          "name": "stdout",
          "text": [
            "\n",
            "Informasi Statistik pada Kolom dengan Nilai Hilang pada Movies:\n",
            "       release_date  video_release_date  \\\n",
            "count          1681                 0.0   \n",
            "unique          240                 NaN   \n",
            "top     01-Jan-1995                 NaN   \n",
            "freq            215                 NaN   \n",
            "mean            NaN                 NaN   \n",
            "std             NaN                 NaN   \n",
            "min             NaN                 NaN   \n",
            "25%             NaN                 NaN   \n",
            "50%             NaN                 NaN   \n",
            "75%             NaN                 NaN   \n",
            "max             NaN                 NaN   \n",
            "\n",
            "                                                 IMDb_URL  \n",
            "count                                                1679  \n",
            "unique                                               1660  \n",
            "top     http://us.imdb.com/M/title-exact?That%20Darn%2...  \n",
            "freq                                                    2  \n",
            "mean                                                  NaN  \n",
            "std                                                   NaN  \n",
            "min                                                   NaN  \n",
            "25%                                                   NaN  \n",
            "50%                                                   NaN  \n",
            "75%                                                   NaN  \n",
            "max                                                   NaN  \n"
          ]
        }
      ]
    },
    {
      "cell_type": "markdown",
      "source": [
        "## Insight :\n",
        "**Kolom release_date:**\n",
        "\n",
        "- Terdapat 1 nilai hilang dari total 1682 data.\n",
        "\n",
        "- Format tanggal yang digunakan adalah DD-MMM-YYYY.\n",
        "\n",
        "- Tanggal yang paling sering muncul adalah 01-Jan-1995, sebanyak 215 kali.\n",
        "\n",
        "**Kolom video_release_date:**\n",
        "\n",
        "- Seluruh nilai pada kolom ini hilang (1682 nilai hilang), sehingga tidak memberikan informasi apapun.\n",
        "\n",
        "- Kolom ini akan dihapus karena tidak berkontribusi terhadap analisis.\n",
        "\n",
        "**Kolom IMDb_URL:**\n",
        "\n",
        "1. Terdapat 3 nilai hilang.\n",
        "\n",
        "2. URL yang paling sering muncul adalah \"http://us.imdb.com/M/title-exact?That%20Darn%20Cat!%20(1997)\", sebanyak 2 kali."
      ],
      "metadata": {
        "id": "tG0eDdw5q9t2"
      }
    },
    {
      "cell_type": "markdown",
      "source": [
        "# A. Data Cleaning"
      ],
      "metadata": {
        "id": "pefccsv1sZe-"
      }
    },
    {
      "cell_type": "markdown",
      "source": [
        "### **Mengatasi permasalahan nilai hilang agar model tidak mengalami error atau bias.**"
      ],
      "metadata": {
        "id": "zDhETxm7uZo9"
      }
    },
    {
      "cell_type": "code",
      "source": [
        "# Menghapus kolom dengan seluruh nilai hilang (video_release_date)\n",
        "movies.drop(columns=['video_release_date'], inplace=True)"
      ],
      "metadata": {
        "id": "cek4GLeAqySt"
      },
      "execution_count": null,
      "outputs": []
    },
    {
      "cell_type": "code",
      "source": [
        "# Menghapus baris dengan nilai hilang pada release_date dan IMDb_URL\n",
        "movies.dropna(subset=['release_date', 'IMDb_URL'], inplace=True)"
      ],
      "metadata": {
        "id": "2RVmYQr7rxpR"
      },
      "execution_count": null,
      "outputs": []
    },
    {
      "cell_type": "markdown",
      "source": [
        "# B. Transformasi Data"
      ],
      "metadata": {
        "id": "6WArgpK7u6P9"
      }
    },
    {
      "cell_type": "markdown",
      "source": [
        "### **Melakukan transformasi data sehingga lebih mudah diolah pada tahap modeling.**"
      ],
      "metadata": {
        "id": "TL9BVrW0u8uv"
      }
    },
    {
      "cell_type": "code",
      "source": [
        "# Transformasi timestamp ke datetime\n",
        "ratings['timestamp'] = pd.to_datetime(ratings['timestamp'], unit='s')"
      ],
      "metadata": {
        "id": "TkQPlcnGr5e0"
      },
      "execution_count": null,
      "outputs": []
    },
    {
      "cell_type": "code",
      "source": [
        "# Mengecek Kembali Nilai Hilang pada Dataset Movies\n",
        "print(\"\\nPengecekan Nilai Hilang pada Movies:\")\n",
        "check_missing_values(movies)"
      ],
      "metadata": {
        "colab": {
          "base_uri": "https://localhost:8080/"
        },
        "id": "_6M7eU1isB67",
        "outputId": "e514d1dc-3fcd-42f0-f662-30cb350d68a7"
      },
      "execution_count": null,
      "outputs": [
        {
          "output_type": "stream",
          "name": "stdout",
          "text": [
            "\n",
            "Pengecekan Nilai Hilang pada Movies:\n",
            "\n",
            "Jumlah nilai hilang per kolom:\n",
            "movieId         0\n",
            "title           0\n",
            "release_date    0\n",
            "IMDb_URL        0\n",
            "unknown         0\n",
            "Action          0\n",
            "Adventure       0\n",
            "Animation       0\n",
            "Children        0\n",
            "Comedy          0\n",
            "Crime           0\n",
            "Documentary     0\n",
            "Drama           0\n",
            "Fantasy         0\n",
            "Film-Noir       0\n",
            "Horror          0\n",
            "Musical         0\n",
            "Mystery         0\n",
            "Romance         0\n",
            "Sci-Fi          0\n",
            "Thriller        0\n",
            "War             0\n",
            "Western         0\n",
            "dtype: int64\n"
          ]
        }
      ]
    },
    {
      "cell_type": "code",
      "source": [
        "# Mengecek Kembali Informasi Statistik untuk Kolom dengan Nilai Hilang pada Movies\n",
        "print('\\nInformasi Statistik pada Kolom dengan Nilai Hilang pada Movies:')\n",
        "print(movies[['release_date', 'IMDb_URL']].describe(include='all'))"
      ],
      "metadata": {
        "colab": {
          "base_uri": "https://localhost:8080/"
        },
        "id": "EyAP9W4csHlF",
        "outputId": "552e7af0-6d05-4591-bab7-c39f70261610"
      },
      "execution_count": null,
      "outputs": [
        {
          "output_type": "stream",
          "name": "stdout",
          "text": [
            "\n",
            "Informasi Statistik pada Kolom dengan Nilai Hilang pada Movies:\n",
            "       release_date                                           IMDb_URL\n",
            "count          1679                                               1679\n",
            "unique          238                                               1660\n",
            "top     01-Jan-1995  http://us.imdb.com/M/title-exact?That%20Darn%2...\n",
            "freq            215                                                  2\n"
          ]
        }
      ]
    },
    {
      "cell_type": "markdown",
      "source": [
        "# C. Penggabungan Dataset"
      ],
      "metadata": {
        "id": "8oU0yMAsv3kK"
      }
    },
    {
      "cell_type": "markdown",
      "source": [
        "### **Dataset ratings dan movies digabungkan berdasarkan kolom movieId. Hal ini dilakukan untuk mempermudah pembuatan matriks user-item yang mengandung informasi rating dan judul film.**"
      ],
      "metadata": {
        "id": "04hhi0avwGli"
      }
    },
    {
      "cell_type": "code",
      "source": [
        "# Penggabungan data ratings dan movies\n",
        "data = pd.merge(ratings, movies, on='movieId')"
      ],
      "metadata": {
        "id": "ai8D0UvMv4Oe"
      },
      "execution_count": null,
      "outputs": []
    },
    {
      "cell_type": "markdown",
      "source": [
        "# D. Data Splitting"
      ],
      "metadata": {
        "id": "656-yrErzNN3"
      }
    },
    {
      "cell_type": "markdown",
      "source": [
        "### **Pada Tahap ini data dibagi menjadi 80/20 untuk data training dan data testing.**"
      ],
      "metadata": {
        "id": "boyr_0GvzU77"
      }
    },
    {
      "cell_type": "code",
      "source": [
        "# Data splitting\n",
        "train_data, test_data = train_test_split(data, test_size=0.2, random_state=42)"
      ],
      "metadata": {
        "id": "Jm440jD8zTLz"
      },
      "execution_count": null,
      "outputs": []
    },
    {
      "cell_type": "markdown",
      "source": [
        "# **Modeling**"
      ],
      "metadata": {
        "id": "2WAfCVZlysfv"
      }
    },
    {
      "cell_type": "markdown",
      "source": [
        "1. Kelebihan: CF dapat memanfaatkan interaksi pengguna, sedangkan CBF dapat merekomendasikan item baru.\n",
        "\n",
        "2. Kekurangan: CF membutuhkan data yang cukup banyak dan padat, sementara CBF bergantung pada informasi konten.\n",
        "\n",
        "Berikut penjelasan cara kerja setiap algoritma yang digunakan dalam solusi rekomendasi beserta parameter yang digunakan:\n",
        "\n",
        "### **1. Collaborative Filtering (CF) - Singular Value Decomposition (SVD)**\n",
        "\n",
        "Collaborative Filtering menggunakan pendekatan berbasis pengguna dan item untuk mengidentifikasi pola preferensi pengguna berdasarkan interaksi sebelumnya. Dalam implementasi ini, digunakan Singular Value Decomposition (SVD) untuk memprediksi rating film yang belum ditonton pengguna.\n",
        "\n",
        "📌Cara Kerja:\n",
        "- Membentuk User-Item Matrix, yaitu matriks yang merepresentasikan hubungan antara pengguna (user) dan film (item) berdasarkan rating yang diberikan. Jika pengguna belum memberikan rating, nilai diisi dengan 0.\n",
        "\n",
        "- Mengubah matriks ini menjadi format sparse matrix menggunakan csr_matrix() dari SciPy, karena sebagian besar nilai dalam matriks ini adalah nol (sparsity).\n",
        "\n",
        "- Menggunakan SVD (svds()) untuk mendekomposisi matriks menjadi tiga komponen:\n",
        "\n",
        "  1. U: Matriks fitur pengguna (dimensi: jumlah pengguna × k)\n",
        "\n",
        "  2. σ (sigma): Matriks diagonal dengan singular values (dimensi: k × k)\n",
        "\n",
        "  3. Vt: Matriks fitur film (dimensi: k × jumlah film)\n",
        "\n",
        "- Melakukan perkalian kembali U × sigma × Vt untuk membentuk matriks prediksi rating.\n",
        "\n",
        "- Hasilnya digunakan untuk merekomendasikan film dengan prediksi rating tertinggi bagi pengguna.\n",
        "\n",
        "**🪢Parameter yang Digunakan:**\n",
        "- k=50 → Menentukan jumlah fitur laten (latent factors) dalam dekomposisi SVD. Default tidak digunakan; angka 50 dipilih untuk keseimbangan antara akurasi dan efisiensi.\n",
        "\n",
        "- fillna(0) → Mengisi nilai kosong dalam user-item matrix dengan 0 agar bisa diproses oleh SVD.\n",
        "\n",
        "- csr_matrix(user_item_matrix) → Mengubah user-item matrix menjadi sparse matrix agar lebih efisien dalam penyimpanan dan komputasi.\n",
        "\n",
        "\n",
        "### **2. Content-Based Filtering (CBF) - TF-IDF & Cosine Similarity**\n",
        "\n",
        "Content-Based Filtering merekomendasikan film berdasarkan kesamaan atribut film, dalam hal ini menggunakan judul film sebagai fitur untuk menemukan kemiripan antar film.\n",
        "\n",
        "📌Cara Kerja:\n",
        "- Menggunakan TF-IDF (Term Frequency - Inverse Document Frequency) untuk mengubah judul film menjadi representasi vektor yang lebih bermakna.\n",
        "\n",
        "- Menghitung cosine similarity antar film berdasarkan representasi TF-IDF untuk menemukan film yang mirip satu sama lain.\n",
        "\n",
        "- Film yang memiliki nilai similarity tertinggi dengan film yang telah ditonton pengguna akan direkomendasikan.\n",
        "\n",
        "**🪢Parameter yang Digunakan:**\n",
        "- stop_words='english' → Menghilangkan kata-kata umum dalam bahasa Inggris yang tidak relevan untuk analisis.\n",
        "\n",
        "- fillna('') → Mengisi nilai kosong dalam kolom judul film agar tidak menyebabkan error saat diproses oleh TF-IDF.\n",
        "\n",
        "- cosine_similarity(tfidf_matrix) → Menghitung kesamaan antar film berdasarkan hasil vektorisasi TF-IDF.\n",
        "\n",
        "**Kesimpulan**\n",
        "\n",
        "1. Collaborative Filtering (CF) dengan SVD digunakan untuk memprediksi rating film berdasarkan preferensi pengguna lain yang memiliki kesamaan pola.\n",
        "\n",
        "2. Content-Based Filtering (CBF) dengan TF-IDF dan Cosine Similarity digunakan untuk merekomendasikan film berdasarkan kesamaan atribut (judul film).\n",
        "\n",
        "3. Parameter yang digunakan telah disesuaikan untuk efisiensi dan akurasi rekomendasi, seperti k=50 dalam SVD dan stop_words='english' dalam TF-IDF."
      ],
      "metadata": {
        "id": "HbrH06Qk0-HB"
      }
    },
    {
      "cell_type": "code",
      "source": [
        "# Collaborative Filtering (User-Item Matrix)\n",
        "from scipy.sparse import csr_matrix\n",
        "\n",
        "user_item_matrix = data.pivot(index='userId', columns='movieId', values='rating').fillna(0)\n",
        "user_item_matrix_sparse = csr_matrix(user_item_matrix)\n",
        "U, sigma, Vt = svds(user_item_matrix_sparse, k=50)\n",
        "sigma = np.diag(sigma)\n",
        "pred_ratings = np.dot(np.dot(U, sigma), Vt)\n",
        "pred_ratings_df = pd.DataFrame(pred_ratings, columns=user_item_matrix.columns)"
      ],
      "metadata": {
        "id": "gaOEezB7y2uA"
      },
      "execution_count": null,
      "outputs": []
    },
    {
      "cell_type": "code",
      "source": [
        "# Content-Based Filtering (TF-IDF)\n",
        "# Menghitung TF-IDF langsung dari judul film pada dataset movies\n",
        "tfidf = TfidfVectorizer(stop_words='english')\n",
        "tfidf_matrix = tfidf.fit_transform(movies['title'].fillna(''))\n",
        "\n",
        "# Menghitung similaritas menggunakan cosine similarity\n",
        "content_sim = cosine_similarity(tfidf_matrix)"
      ],
      "metadata": {
        "id": "9QHFd5qYzkGP"
      },
      "execution_count": null,
      "outputs": []
    },
    {
      "cell_type": "markdown",
      "source": [
        "# **Evaluasi**"
      ],
      "metadata": {
        "id": "515el16Sz1l5"
      }
    },
    {
      "cell_type": "code",
      "source": [
        "# Fungsi evaluasi model\n",
        "from sklearn.metrics import mean_squared_error, mean_absolute_error\n",
        "\n",
        "# Fungsi evaluasi metrik: MSE, RMSE, dan MAE\n",
        "def evaluate_model(y_true, y_pred):\n",
        "    mse = mean_squared_error(y_true, y_pred)\n",
        "    rmse = np.sqrt(mse)\n",
        "    mae = mean_absolute_error(y_true, y_pred)\n",
        "    print(f'MSE: {mse:.4f}')\n",
        "    print(f'RMSE: {rmse:.4f}')\n",
        "    print(f'MAE: {mae:.4f}')"
      ],
      "metadata": {
        "id": "diAi_rchz6Qu"
      },
      "execution_count": null,
      "outputs": []
    },
    {
      "cell_type": "code",
      "source": [
        "actual_ratings = user_item_matrix.values.flatten()\n",
        "predicted_ratings = pred_ratings.flatten()\n",
        "evaluate_model(actual_ratings, predicted_ratings)"
      ],
      "metadata": {
        "colab": {
          "base_uri": "https://localhost:8080/"
        },
        "id": "xb3dIb_tOhoZ",
        "outputId": "29d1287e-51d4-4d93-cc23-964aa17c8d89"
      },
      "execution_count": null,
      "outputs": [
        {
          "output_type": "stream",
          "name": "stdout",
          "text": [
            "MSE: 0.3370\n",
            "RMSE: 0.5805\n",
            "MAE: 0.2707\n"
          ]
        }
      ]
    },
    {
      "cell_type": "code",
      "source": [
        "# Evaluasi Collaborative Filtering (SVD)\n",
        "def evaluate_cf():\n",
        "    actual_ratings = user_item_matrix.values.flatten()\n",
        "    predicted_ratings = pred_ratings.flatten()\n",
        "    evaluate_model(actual_ratings, predicted_ratings)"
      ],
      "metadata": {
        "id": "Iyt30pNZIbBA"
      },
      "execution_count": null,
      "outputs": []
    },
    {
      "cell_type": "code",
      "source": [
        "# Evaluasi Content-Based Filtering (CBF)\n",
        "def evaluate_cbf():\n",
        "    # Menyesuaikan ukuran content_sim dengan user_item_matrix\n",
        "    valid_movie_ids = user_item_matrix.columns\n",
        "    content_sim_filtered = content_sim[:len(valid_movie_ids), :len(valid_movie_ids)]\n",
        "\n",
        "    # Menghitung prediksi CBF\n",
        "    cbf_pred = np.dot(user_item_matrix.values, content_sim_filtered)\n",
        "    actual_ratings = user_item_matrix.values.flatten()\n",
        "    predicted_ratings = cbf_pred.flatten()\n",
        "    evaluate_model(actual_ratings, predicted_ratings)"
      ],
      "metadata": {
        "id": "lkjeQVDmIlry"
      },
      "execution_count": null,
      "outputs": []
    },
    {
      "cell_type": "code",
      "source": [
        "# Evaluasi Hybrid (gabungan CF dan CBF)\n",
        "def evaluate_hybrid(alpha=0.5):\n",
        "    # Menyesuaikan ukuran content_sim dengan user_item_matrix\n",
        "    valid_movie_ids = user_item_matrix.columns\n",
        "    content_sim_filtered = content_sim[:len(valid_movie_ids), :len(valid_movie_ids)]\n",
        "\n",
        "    # Menghitung prediksi CBF\n",
        "    cbf_pred = np.dot(user_item_matrix.values, content_sim_filtered)\n",
        "\n",
        "    # Menggabungkan prediksi CF (SVD) dan CBF\n",
        "    hybrid_pred = alpha * pred_ratings + (1 - alpha) * cbf_pred\n",
        "    actual_ratings = user_item_matrix.values.flatten()\n",
        "    predicted_ratings = hybrid_pred.flatten()\n",
        "    evaluate_model(actual_ratings, predicted_ratings)"
      ],
      "metadata": {
        "id": "Q_5-eeD9Iw-O"
      },
      "execution_count": null,
      "outputs": []
    },
    {
      "cell_type": "code",
      "source": [
        "print(\"\\nEvaluasi Collaborative Filtering (CF):\")\n",
        "evaluate_cf()"
      ],
      "metadata": {
        "colab": {
          "base_uri": "https://localhost:8080/"
        },
        "id": "gIbqFEL5I2Ij",
        "outputId": "b71b708d-1e4b-4e6f-e48d-429e51ffcdbc"
      },
      "execution_count": null,
      "outputs": [
        {
          "output_type": "stream",
          "name": "stdout",
          "text": [
            "\n",
            "Evaluasi Collaborative Filtering (CF):\n",
            "MSE: 0.3370\n",
            "RMSE: 0.5805\n",
            "MAE: 0.2707\n"
          ]
        }
      ]
    },
    {
      "cell_type": "code",
      "source": [
        "print(\"\\nEvaluasi Content-Based Filtering (CBF):\")\n",
        "evaluate_cbf()"
      ],
      "metadata": {
        "colab": {
          "base_uri": "https://localhost:8080/"
        },
        "id": "hvSKqpC0M1Rm",
        "outputId": "eb7dbc70-4021-4c79-de10-3020049bcd47"
      },
      "execution_count": null,
      "outputs": [
        {
          "output_type": "stream",
          "name": "stdout",
          "text": [
            "\n",
            "Evaluasi Content-Based Filtering (CBF):\n",
            "MSE: 32.1889\n",
            "RMSE: 5.6735\n",
            "MAE: 3.4283\n"
          ]
        }
      ]
    },
    {
      "cell_type": "code",
      "source": [
        "print(\"\\nEvaluasi Hybrid:\")\n",
        "evaluate_hybrid(alpha=0.5)"
      ],
      "metadata": {
        "colab": {
          "base_uri": "https://localhost:8080/"
        },
        "id": "TJng7jVtM3XI",
        "outputId": "6b760120-c762-428a-9c84-080ddb45cf92"
      },
      "execution_count": null,
      "outputs": [
        {
          "output_type": "stream",
          "name": "stdout",
          "text": [
            "\n",
            "Evaluasi Hybrid:\n",
            "MSE: 8.1317\n",
            "RMSE: 2.8516\n",
            "MAE: 1.7434\n"
          ]
        }
      ]
    },
    {
      "cell_type": "markdown",
      "source": [
        "# **Evaluasi**\n",
        "\n",
        "Evaluasi Performa\n",
        "Untuk menilai keefektifan model rekomendasi yang dikembangkan, dilakukan evaluasi menggunakan metrik seperti Mean Squared Error (MSE), Root Mean Squared Error (RMSE), dan Mean Absolute Error (MAE). Hasil evaluasi menunjukkan bahwa:\n",
        "\n",
        "1. **Model Collaborative Filtering (CF)** memberikan hasil prediksi dengan tingkat kesalahan yang paling rendah dibandingkan metode lainnya, dengan nilai MSE (0.3370), RMSE (0.5805), dan MAE (0.2707). Hal ini menunjukkan bahwa CF mampu menghasilkan rekomendasi dengan akurasi yang sangat baik, sehingga dapat meningkatkan pengalaman pengguna dan memperkuat loyalitas pelanggan.\n",
        "\n",
        "2. Sebaliknya, **Content-Based Filtering (CBF)** menunjukkan performa yang kurang optimal dengan nilai kesalahan yang cukup tinggi (MSE: 32.1889, RMSE: 5.6735, MAE: 3.4283). Model ini kurang efektif dalam memberikan rekomendasi yang akurat, yang dapat mengurangi kepuasan pengguna serta berpotensi menurunkan retensi pelanggan.\n",
        "\n",
        "3. Sementara itu, **Hybrid Filtering** yang menggabungkan CF dan CBF menghasilkan performa yang berada di tengah-tengah, dengan nilai MSE (8.1317), RMSE (2.8516), dan MAE (1.7434). Meskipun hasilnya tidak sebaik CF secara murni, pendekatan ini tetap memberikan rekomendasi yang lebih bervariasi dengan mempertimbangkan popularitas pengguna (CF) dan kesamaan konten (CBF). Dengan demikian, Hybrid Filtering dapat meningkatkan eksplorasi konten pengguna sekaligus menjaga akurasi rekomendasi.\n",
        "\n",
        "**Dari hasil tersebut, dapat disimpulkan bahwa Collaborative Filtering (CF) merupakan pilihan terbaik dalam hal akurasi rekomendasi pada kasus ini.**"
      ],
      "metadata": {
        "id": "kj2n-z2I-2Uk"
      }
    },
    {
      "cell_type": "markdown",
      "source": [
        "# **📌Kesimpulan Akhir dan Dampak Terhadap Business Understanding :**\n",
        "\n",
        "Dari hasil evaluasi, dapat disimpulkan bahwa pendekatan Collaborative Filtering (CF) adalah solusi paling efektif dalam meningkatkan keterlibatan pengguna dan loyalitas pelanggan karena menghasilkan rekomendasi dengan akurasi tertinggi. Namun, pendekatan Hybrid Filtering tetap memiliki nilai strategis bagi bisnis karena memberikan variasi rekomendasi yang lebih luas, yang dapat membantu dalam strategi pemasaran berbasis rekomendasi serta meningkatkan waktu tontonan pengguna.\n",
        "\n",
        "Secara keseluruhan, solusi yang diterapkan berhasil menjawab problem statements dan mencapai goals yang telah ditetapkan, terutama dalam hal meningkatkan retensi pelanggan dan mengoptimalkan monetisasi platform melalui pengalaman pengguna yang lebih personal dan relevan."
      ],
      "metadata": {
        "id": "zNcAyZHnCsS7"
      }
    },
    {
      "cell_type": "markdown",
      "source": [
        "# Example of Usage"
      ],
      "metadata": {
        "id": "SC7LhwEd_gLm"
      }
    },
    {
      "cell_type": "markdown",
      "source": [
        "**1. Metode Tunggal ( CF dan CBF)**"
      ],
      "metadata": {
        "id": "EkcG6DAT_lS3"
      }
    },
    {
      "cell_type": "code",
      "source": [
        "# Fungsi rekomendasi dengan Collaborative Filtering (CF)\n",
        "def recommend_cf(user_id, num_recommendations=10):\n",
        "    user_ratings = pred_ratings_df.loc[user_id - 1].sort_values(ascending=False)\n",
        "    recommended_movie_ids = user_ratings.head(num_recommendations).index\n",
        "    return movies[movies['movieId'].isin(recommended_movie_ids)]['title']\n"
      ],
      "metadata": {
        "id": "W-I6QOIG0VBn"
      },
      "execution_count": null,
      "outputs": []
    },
    {
      "cell_type": "code",
      "source": [
        "# Content-based Filtering (CBF)\n",
        "def recommend_cbf(movie_id, num_recommendations=10):\n",
        "    if movie_id not in movies['movieId'].values:\n",
        "        print(f'Movie ID {movie_id} tidak ditemukan.')\n",
        "        return []\n",
        "    idx = movies[movies['movieId'] == movie_id].index[0]\n",
        "    sim_scores = list(enumerate(content_sim[idx]))\n",
        "    sim_scores = sorted(sim_scores, key=lambda x: x[1], reverse=True)\n",
        "    movie_indices = [i[0] for i in sim_scores[1:num_recommendations+1]]\n",
        "    return movies['title'].iloc[movie_indices].tolist()"
      ],
      "metadata": {
        "id": "AW-6IX9o668s"
      },
      "execution_count": null,
      "outputs": []
    },
    {
      "cell_type": "code",
      "source": [
        "# Example of usage\n",
        "user_id = 1\n",
        "print(\"Recommendations for User (CF):\")\n",
        "print(recommend_cf(user_id))"
      ],
      "metadata": {
        "colab": {
          "base_uri": "https://localhost:8080/"
        },
        "id": "oFnazs6D0ahb",
        "outputId": "b7421c56-fc59-45b3-d5b1-20994477d0c8"
      },
      "execution_count": null,
      "outputs": [
        {
          "output_type": "stream",
          "name": "stdout",
          "text": [
            "Recommendations for User (CF):\n",
            "0                  Toy Story (1995)\n",
            "11       Usual Suspects, The (1995)\n",
            "49                 Star Wars (1977)\n",
            "88              Blade Runner (1982)\n",
            "99                     Fargo (1996)\n",
            "134    2001: A Space Odyssey (1968)\n",
            "175                   Aliens (1986)\n",
            "182                    Alien (1979)\n",
            "267              Chasing Amy (1997)\n",
            "268          Full Monty, The (1997)\n",
            "Name: title, dtype: object\n"
          ]
        }
      ]
    },
    {
      "cell_type": "markdown",
      "source": [
        "**Hasil :**\n",
        "1. Rekomendasi film untuk pengguna dengan ID 1 didasarkan pada kemiripan rating dengan pengguna lain.\n",
        "\n",
        "2. Beberapa film yang direkomendasikan antara lain:\n",
        "\n",
        "- Toy Story (1995): Film animasi keluarga dengan cerita persahabatan mainan.\n",
        "\n",
        "- Star Wars (1977): Film fiksi ilmiah klasik tentang perjuangan melawan Kekaisaran.\n",
        "\n",
        "- Blade Runner (1982): Film fiksi ilmiah bertema dystopia dan robot manusia.\n",
        "\n",
        "- Fargo (1996): Drama kriminal dengan cerita penuh misteri.\n",
        "\n",
        "- 2001: A Space Odyssey (1968): Film fiksi ilmiah epik karya Stanley Kubrick.\n",
        "\n",
        "- Aliens (1986) dan Alien (1979): Film horor fiksi ilmiah dengan tema invasi alien.\n",
        "\n",
        "- Chasing Amy (1997) dan Full Monty, The (1997): Film drama dan komedi romantis.\n",
        "\n",
        "**Insight:**\n",
        "Pengguna ini cenderung menyukai film dengan tema fiksi ilmiah, petualangan, dan drama kriminal, serta beberapa film dengan elemen komedi dan animasi."
      ],
      "metadata": {
        "id": "Wp88p0ygA3_1"
      }
    },
    {
      "cell_type": "markdown",
      "source": [
        "**Kelebihan:**\n",
        "\n",
        "1. Mampu memberikan rekomendasi berdasarkan interaksi pengguna lain, sehingga menghasilkan rekomendasi film populer yang disukai banyak orang.\n",
        "\n",
        "2. Cocok digunakan ketika data interaksi pengguna cukup banyak.\n",
        "\n",
        "**Kekurangan:**\n",
        "\n",
        "1. Mengalami masalah Cold Start, terutama jika pengguna baru belum memiliki interaksi.\n",
        "\n",
        "2. Tidak mempertimbangkan konten film, sehingga bisa kurang relevan jika pengguna menyukai genre atau tipe film tertentu."
      ],
      "metadata": {
        "id": "FoqU8vxwAApP"
      }
    },
    {
      "cell_type": "code",
      "source": [
        "movie_id = 1\n",
        "print(\"Recommendations for Movie (CBF):\")\n",
        "print(recommend_cbf(movie_id))"
      ],
      "metadata": {
        "colab": {
          "base_uri": "https://localhost:8080/"
        },
        "id": "7YGx1sSH0cdB",
        "outputId": "a6321268-595e-430b-b4cc-cea52b3af35f"
      },
      "execution_count": null,
      "outputs": [
        {
          "output_type": "stream",
          "name": "stdout",
          "text": [
            "Recommendations for Movie (CBF):\n",
            "[\"Pyromaniac's Love Story, A (1995)\", 'Story of Xinghua, The (1993)', 'Philadelphia Story, The (1940)', 'NeverEnding Story III, The (1994)', 'FairyTale: A True Story (1997)', 'Now and Then (1995)', 'Show, The (1995)', 'To Have, or Not (1995)', 'Entertaining Angels: The Dorothy Day Story (1996)', 'Police Story 4: Project S (Chao ji ji hua) (1993)']\n"
          ]
        }
      ]
    },
    {
      "cell_type": "markdown",
      "source": [
        "**Hasil :**\n",
        "\n",
        "1. Rekomendasi didasarkan pada kesamaan fitur film, seperti genre dan deskripsi.\n",
        "\n",
        "2. Beberapa film yang direkomendasikan antara lain:\n",
        "\n",
        "- Pyromaniac's Love Story, A (1995): Drama romantis dengan kisah cinta yang tidak biasa.\n",
        "\n",
        "- Philadelphia Story, The (1940): Drama komedi romantis klasik.\n",
        "\n",
        "- NeverEnding Story III, The (1994): Film petualangan fantasi keluarga.\n",
        "\n",
        "- FairyTale: A True Story (1997): Film drama keluarga dengan unsur fantasi.\n",
        "\n",
        "- Police Story 4: Project S (1993): Film aksi petualangan dengan elemen seni bela diri.\n",
        "\n",
        "**Insight:**\n",
        "Film yang direkomendasikan memiliki genre drama romantis, fantasi keluarga, dan petualangan aksi."
      ],
      "metadata": {
        "id": "fJIVPdrpBXAt"
      }
    },
    {
      "cell_type": "markdown",
      "source": [
        "**Kelebihan:**\n",
        "\n",
        "1. Mampu memberikan rekomendasi berdasarkan kesamaan fitur film (genre, sutradara, dll).\n",
        "\n",
        "2. Tidak terpengaruh oleh popularitas, sehingga dapat merekomendasikan film dengan karakteristik yang serupa dengan preferensi pengguna.\n",
        "\n",
        "**Kekurangan:**\n",
        "\n",
        "1. Rekomendasi bisa kurang bervariasi karena terlalu fokus pada kesamaan.\n",
        "\n",
        "2. Tidak mampu menangkap pola kompleks dari perilaku pengguna seperti CF."
      ],
      "metadata": {
        "id": "7r-K6WUZAN8i"
      }
    },
    {
      "cell_type": "markdown",
      "source": [
        "**2. Metode Hybrid Filtering**"
      ],
      "metadata": {
        "id": "rQwyTR7V_3Q3"
      }
    },
    {
      "cell_type": "markdown",
      "source": [
        "**Hybrid filtering menggabungkan Collaborative Filtering (CF) dan Content-Based Filtering (CBF) untuk memberikan rekomendasi yang lebih variatif dengan memanfaatkan keunggulan dari kedua pendekatan.**"
      ],
      "metadata": {
        "id": "kek_FpzbCFMt"
      }
    },
    {
      "cell_type": "code",
      "source": [
        "# Rekomendasi Hybrid (CF + CBF)\n",
        "def recommend_hybrid(user_id, movie_id, num_recommendations=10, alpha=0.5):\n",
        "    # Mengambil rekomendasi dari CF dan CBF\n",
        "    cf_recommendations = recommend_cf(user_id, num_recommendations)\n",
        "    cbf_recommendations = recommend_cbf(movie_id, num_recommendations)\n",
        "\n",
        "    # Buat dictionary untuk menyimpan skor rekomendasi\n",
        "    recommendation_scores = {}\n",
        "\n",
        "    # Menggabungkan skor CF dengan bobot alpha\n",
        "    for movie in cf_recommendations:\n",
        "        recommendation_scores[movie] = recommendation_scores.get(movie, 0) + alpha\n",
        "\n",
        "    # Menggabungkan skor CBF dengan bobot (1 - alpha)\n",
        "    for movie in cbf_recommendations:\n",
        "        recommendation_scores[movie] = recommendation_scores.get(movie, 0) + (1 - alpha)\n",
        "\n",
        "    # Mengurutkan hasil berdasarkan skor (nilai tertinggi ke terendah)\n",
        "    sorted_recommendations = sorted(recommendation_scores, key=recommendation_scores.get, reverse=True)\n",
        "\n",
        "    # Mengembalikan rekomendasi teratas sesuai jumlah yang diminta\n",
        "    return sorted_recommendations[:num_recommendations]\n",
        "\n",
        "user_id = 1\n",
        "movie_id = 1\n",
        "print('\\nRekomendasi Hybrid (CF + CBF):')\n",
        "print(recommend_hybrid(user_id, movie_id))"
      ],
      "metadata": {
        "colab": {
          "base_uri": "https://localhost:8080/"
        },
        "id": "tTSUw0hu-LrQ",
        "outputId": "569a64fc-5ff0-422d-ddba-959cad7374f7"
      },
      "execution_count": null,
      "outputs": [
        {
          "output_type": "stream",
          "name": "stdout",
          "text": [
            "\n",
            "Rekomendasi Hybrid (CF + CBF):\n",
            "['Toy Story (1995)', 'Usual Suspects, The (1995)', 'Star Wars (1977)', 'Blade Runner (1982)', 'Fargo (1996)', '2001: A Space Odyssey (1968)', 'Aliens (1986)', 'Alien (1979)', 'Chasing Amy (1997)', 'Full Monty, The (1997)']\n"
          ]
        }
      ]
    },
    {
      "cell_type": "markdown",
      "source": [
        "Berdasarkan hasil rekomendasi hybrid yang menggabungkan Collaborative Filtering (CF) dan Content-Based Filtering (CBF), sistem berhasil menghasilkan daftar film yang mencerminkan keseimbangan antara preferensi pengguna dan kesamaan konten. Film-film seperti \"Toy Story (1995)\", \"Usual Suspects, The (1995)\", \"Star Wars (1977)\", dan \"Blade Runner (1982)\" merupakan film-film populer yang disukai oleh pengguna serupa, sementara film-film seperti \"Fargo (1996)\" dan \"Chasing Amy (1997)\" juga dipilih berdasarkan kesamaan genre atau tema. Kombinasi kedua pendekatan ini memungkinkan sistem memberikan rekomendasi yang lebih beragam dan relevan, sehingga dapat meningkatkan kepuasan pengguna dengan menawarkan pilihan film dari berbagai sudut pandang."
      ],
      "metadata": {
        "id": "O5NC54FHCQwo"
      }
    }
  ]
}