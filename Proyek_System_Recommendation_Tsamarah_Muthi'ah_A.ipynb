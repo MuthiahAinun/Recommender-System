{
  "nbformat": 4,
  "nbformat_minor": 0,
  "metadata": {
    "colab": {
      "provenance": [],
      "gpuType": "V28",
      "include_colab_link": true
    },
    "kernelspec": {
      "name": "python3",
      "display_name": "Python 3"
    },
    "language_info": {
      "name": "python"
    },
    "accelerator": "TPU"
  },
  "cells": [
    {
      "cell_type": "markdown",
      "metadata": {
        "id": "view-in-github",
        "colab_type": "text"
      },
      "source": [
        "<a href=\"https://colab.research.google.com/github/MuthiahAinun/Recommender-System/blob/main/Proyek_System_Recommendation_Tsamarah_Muthi'ah_A.ipynb\" target=\"_parent\"><img src=\"https://colab.research.google.com/assets/colab-badge.svg\" alt=\"Open In Colab\"/></a>"
      ]
    },
    {
      "cell_type": "markdown",
      "source": [
        "# 📚Proyek Machine Learning- System Recommendation: [Movielens-dataset]\n",
        "- **Nama:** [Tsamarah Muthi'ah Abdullah]\n",
        "- **Email:** [a135xaf486@devacademy.id]\n",
        "- **ID Dicoding:** [a135xaf48]"
      ],
      "metadata": {
        "id": "tyy3LT61PKqY"
      }
    },
    {
      "cell_type": "markdown",
      "source": [
        "# Project Overview\n",
        "\n",
        "Sistem rekomendasi telah menjadi bagian penting dalam industri film digital, terutama dengan semakin populernya platform layanan streaming seperti Netflix, Disney+, dan Amazon Prime Video. Dalam konteks dunia film, sistem rekomendasi berperan penting untuk membantu pengguna menemukan film atau serial yang sesuai dengan preferensi mereka, tanpa harus mencarinya secara manual di antara ribuan judul yang tersedia. Hal ini tidak hanya meningkatkan kenyamanan pengguna, tetapi juga memperpanjang waktu keterlibatan pengguna di platform dan mendorong loyalitas terhadap layanan tersebut.\n",
        "\n",
        "Sistem rekomendasi diperlukan dalam bidang film karena tingginya volume konten yang terus bertambah setiap harinya. Tanpa sistem yang cerdas, pengguna bisa mengalami overload informasi, kesulitan menemukan film yang sesuai dengan selera mereka, atau bahkan berhenti menggunakan layanan karena merasa kebingungan dalam memilih. Dengan memberikan saran yang dipersonalisasi, sistem rekomendasi mampu meningkatkan pengalaman menonton, membuat pengguna merasa dipahami, dan mendorong eksplorasi konten yang lebih luas.\n",
        "\n",
        "Menurut penelitian oleh Ricci et al. (2015), sistem rekomendasi dapat meningkatkan pendapatan hingga 20% pada platform digital. Sementara itu, Netflix melaporkan bahwa sekitar 80% dari total penayangan berasal dari saran yang diberikan oleh sistem rekomendasi mereka (Gomez-Uribe & Hunt, 2015). Hal ini menunjukkan betapa besar pengaruh algoritma rekomendasi terhadap perilaku pengguna dalam mengakses konten film.\n",
        "\n",
        "Pada proyek ini, akan dikembangkan sistem rekomendasi khusus untuk konten film dengan menggunakan berbagai pendekatan algoritma, seperti Collaborative Filtering dan Content-Based Filtering. Selain itu, pendekatan Hybrid Filtering juga akan diterapkan untuk menggabungkan keunggulan dari kedua metode guna menghasilkan rekomendasi yang lebih beragam. Tujuan akhir dari proyek ini adalah menciptakan sistem yang dapat memberikan rekomendasi film yang relevan dan memuaskan berdasarkan minat serta riwayat tontonan pengguna.\n",
        "\n",
        "**Referensi:**\n",
        "\n",
        "- Ricci, F., Rokach, L., & Shapira, B. (2015). Recommender Systems Handbook. Springer.\n",
        "\n",
        "- Gomez-Uribe, C. A., & Hunt, N. (2015). The Netflix Recommender System: Algorithms, Business Value, and Innovation. ACM Transactions on Management Information Systems."
      ],
      "metadata": {
        "id": "OTllVGTrOugg"
      }
    },
    {
      "cell_type": "markdown",
      "source": [
        "# Business Understanding\n",
        "\n",
        "### **Problem Statements**\n",
        "\n",
        "1. Bagaimana menyediakan rekomendasi film yang relevan dan tepat sasaran, meskipun cakupan item yang direkomendasikan masih terbatas?\n",
        "\n",
        "2. Bagaimana membangun sistem rekomendasi yang efisien untuk membantu pengguna menemukan film-film berkualitas tinggi yang sesuai dengan selera mereka?\n",
        "\n",
        "\n",
        "### **Goals**\n",
        "\n",
        "1. Menyediakan rekomendasi film dengan akurasi tinggi (high precision), agar pengalaman pengguna lebih menyenangkan dan terpercaya.\n",
        "\n",
        "2. Fokus pada top picks yang benar-benar relevan, meskipun jumlah film yang terjangkau masih terbatas.\n",
        "\n",
        "\n",
        "### **Solution Approach**\n",
        "\n",
        "1. Menggunakan 2 algoritma utama, yaitu:\n",
        "\n",
        "  **A. Collaborative Filtering**\n",
        "\n",
        "  - Menggunakan SVD untuk memprediksi rating berdasarkan interaksi pengguna.\n",
        "\n",
        "  - Efektif menghasilkan rekomendasi yang sangat sesuai untuk pengguna aktif.\n",
        "\n",
        "  - Memiliki precision tinggi, cocok untuk menyajikan film yang \"pasti disukai\".\n",
        "\n",
        " **B. Content-Based Filtering**\n",
        "\n",
        "  - Menggunakan kemiripan konten (judul & genre) untuk membuat rekomendasi berdasarkan film yang sudah disukai.\n",
        "\n",
        "  - Menggunakan teknik TF-IDF (Term Frequency-Inverse Document Frequency) dan Cosine Similarity untuk mengukur kemiripan antar film.\n",
        "\n",
        "  - Memberikan rekomendasi film serupa dengan film tertentu yang dipilih pengguna.\n",
        "\n",
        "2. Menggabungkan kedua algoritma dengan metode Hybrid Filtering (CF + CBF)\n",
        "\n",
        "  - Menggabungkan hasil rekomendasi dari Collaborative Filtering dan Content-Based Filtering.\n",
        "\n",
        "  - Memastikan rekomendasi lebih bervariasi dan mempertimbangkan baik popularitas pengguna maupun kesamaan konten.\n",
        "\n",
        "3. Evaluasi Performa\n",
        "\n",
        "  - Menggunakan metrik seperti Precision, Recall, dan F1."
      ],
      "metadata": {
        "id": "A4sZFmllPLjY"
      }
    },
    {
      "cell_type": "markdown",
      "source": [
        "# **Import Library**"
      ],
      "metadata": {
        "id": "8AZC3nHcT5EZ"
      }
    },
    {
      "cell_type": "code",
      "source": [
        "import pandas as pd\n",
        "import numpy as np\n",
        "from sklearn.model_selection import train_test_split\n",
        "from sklearn.metrics.pairwise import cosine_similarity\n",
        "from sklearn.metrics import precision_score, recall_score, f1_score\n",
        "from sklearn.feature_extraction.text import TfidfVectorizer\n",
        "from scipy.sparse.linalg import svds\n",
        "import os"
      ],
      "metadata": {
        "id": "A8Tu9AwBT3Ne"
      },
      "execution_count": 2,
      "outputs": []
    },
    {
      "cell_type": "markdown",
      "source": [
        "# **Data Understanding**\n",
        "\n",
        "Dataset yang digunakan pada proyek ini berasal dari MovieLens 100K (https://grouplens.org/datasets/movielens/100k/), yang berisi data rating film oleh pengguna. Dataset ini terdiri dari beberapa file utama, yaitu:\n",
        "\n",
        "- u.data: berisi data rating pengguna terhadap film.\n",
        "\n",
        "- u.item: berisi informasi mengenai judul film dan genre.\n",
        "\n",
        "- u.user: berisi informasi pengguna.\n",
        "\n",
        "- u.genre: berisi daftar genre.\n",
        "\n",
        "Dataset ini berisi 100.000 rating dari 943 pengguna terhadap 1.682 film. Data ini mencakup informasi mengenai ID pengguna, ID film, rating, dan timestamp.\n",
        "\n",
        "Kondisi dataset 'movies' memiliki beberapa nilai hilang, terutama pada kolom release_date (1 nilai hilang), video_release_date (1.682 nilai hilang), dan IMDb_URL (3 nilai hilang). Sementara itu, dataset 'ratings', 'genres', dan 'users' tidak memiliki nilai hilang."
      ],
      "metadata": {
        "id": "EqZZTi5KS5Am"
      }
    },
    {
      "cell_type": "markdown",
      "source": [
        "**Berikut adalah uraian variabel-variabel atau fitur pada tiap dataset:**\n",
        "\n",
        "**1. Dataset Ratings**\n",
        "- userId: Merupakan ID unik dari pengguna yang memberikan rating terhadap film.\n",
        "\n",
        "- movieId: Merupakan ID unik dari film yang diberi rating oleh pengguna.\n",
        "\n",
        "- rating: Merupakan nilai penilaian yang diberikan oleh pengguna terhadap film, dengan rentang 1 hingga 5.\n",
        "\n",
        "- timestamp: Merupakan waktu saat pengguna memberikan rating, disimpan dalam format Unix timestamp."
      ],
      "metadata": {
        "id": "VS1A9D_gfovK"
      }
    },
    {
      "cell_type": "markdown",
      "source": [
        "**2. Dataset Movies**\n",
        "- movieId: Merupakan ID unik dari film.\n",
        "\n",
        "- Title:  Merupakan Judul film.\n",
        "\n",
        "- release_date:  Merupakan tanggal rilis film.\n",
        "\n",
        "- video_release_date: Tanggal rilis video dari film tersebut (tidak ada data pada contoh).\n",
        "\n",
        "- IMDb_URL: Merupakan kolom yang menyimpan tautan ke halaman film di situs IMDb.\n",
        "\n",
        "- unknown: Variabel biner yang menunjukkan apakah genre film tidak diketahui (1 jika ya, 0 jika tidak).\n",
        "\n",
        "- Action: Variabel biner yang menunjukkan apakah film bergenre aksi (1 jika ya, 0 jika tidak).\n",
        "\n",
        "- Adventure: Variabel biner yang menunjukkan apakah film bergenre petualangan (1 jika ya, 0 jika tidak).\n",
        "\n",
        "- Animation: Variabel biner yang menunjukkan apakah film bergenre animasi (1 jika ya, 0 jika tidak).\n",
        "\n",
        "- Children: Variabel biner yang menunjukkan apakah film ditujukan untuk anak-anak (1 jika ya, 0 jika tidak).\n",
        "\n",
        "- Comedy: Variabel biner yang menunjukkan apakah film bergenre komedi (1 jika ya, 0 jika tidak).\n",
        "\n",
        "- Crime: Variabel biner yang menunjukkan apakah film bergenre kriminal (1 jika ya, 0 jika tidak).\n",
        "\n",
        "- Documentary: Variabel biner yang menunjukkan apakah film bergenre dokumenter (1 jika ya, 0 jika tidak).\n",
        "\n",
        "- Drama: Variabel biner yang menunjukkan apakah film bergenre drama (1 jika ya, 0 jika tidak).\n",
        "\n",
        "- Fantasy: Variabel biner yang menunjukkan apakah film bergenre fantasi (1 jika ya, 0 jika tidak).\n",
        "\n",
        "- Film-Noir: Variabel biner yang menunjukkan apakah film bergenre noir (1 jika ya, 0 jika tidak).\n",
        "\n",
        "- Horror: Variabel biner yang menunjukkan apakah film bergenre horor (1 jika ya, 0 jika tidak).\n",
        "\n",
        "- Musical: Variabel biner yang menunjukkan apakah film bergenre musikal (1 jika ya, 0 jika tidak).\n",
        "\n",
        "- Mystery: Variabel biner yang menunjukkan apakah film bergenre misteri (1 jika ya, 0 jika tidak).\n",
        "\n",
        "- Romance: Variabel biner yang menunjukkan apakah film bergenre romantis (1 jika ya, 0 jika tidak).\n",
        "\n",
        "- Sci-Fi: Variabel biner yang menunjukkan apakah film bergenre fiksi ilmiah (1 jika ya, 0 jika tidak).\n",
        "\n",
        "- Thriller: Variabel biner yang menunjukkan apakah film bergenre thriller (1 jika ya, 0 jika tidak).\n",
        "\n",
        "- War: Variabel biner yang menunjukkan apakah film bergenre perang (1 jika ya, 0 jika tidak).\n",
        "\n",
        "- Western: Variabel biner yang menunjukkan apakah film bergenre barat atau koboi (1 jika ya, 0 jika tidak)."
      ],
      "metadata": {
        "id": "-VyfFWtjpF72"
      }
    },
    {
      "cell_type": "markdown",
      "source": [
        "**3. Dataset Users**\n",
        "- userId: Merupakan ID unik dari pengguna dalam dataset.\n",
        "\n",
        "- age: Merupakan usia pengguna dalam satuan tahun.\n",
        "\n",
        "- gender: Menunjukkan jenis kelamin pengguna.\n",
        "\n",
        "- occupation: Menunjukkan pekerjaan pengguna.\n",
        "\n",
        "- zip_code: Menunjukkan kode pos pengguna sebagai representasi dari lokasi geografis mereka.\n",
        "\n"
      ],
      "metadata": {
        "id": "z0mZ_14OpJhs"
      }
    },
    {
      "cell_type": "markdown",
      "source": [
        "**4. Dataset Genres**\n",
        "- genre: Merupakan genre film.\n",
        "- genreId: Merupakan ID unik dari genre film."
      ],
      "metadata": {
        "id": "m3fAscynpQZi"
      }
    },
    {
      "cell_type": "code",
      "source": [
        "# Fungsi untuk mengubah .u file to CSV\n",
        "def convert_u_to_csv(file_path, delimiter, columns, csv_name, encoding='ISO-8859-1'):\n",
        "    df = pd.read_csv(file_path, delimiter=delimiter, header=None, engine='python', encoding=encoding)\n",
        "    df.columns = columns\n",
        "    csv_path = csv_name\n",
        "    df.to_csv(csv_path, index=False)\n",
        "    print(f'File {file_path} successfully converted to {csv_path}')\n",
        "    return csv_path"
      ],
      "metadata": {
        "id": "MFPb3auHTfzg"
      },
      "execution_count": null,
      "outputs": []
    },
    {
      "cell_type": "code",
      "source": [
        "# Mengubah u.data file to CSV\n",
        "ratings_path = convert_u_to_csv('u.data', '\t', ['userId', 'movieId', 'rating', 'timestamp'], 'ratings.csv')"
      ],
      "metadata": {
        "colab": {
          "base_uri": "https://localhost:8080/"
        },
        "id": "H71-RGciVNMu",
        "outputId": "31922087-42b1-407a-ec1e-b387bbb614de"
      },
      "execution_count": null,
      "outputs": [
        {
          "output_type": "stream",
          "name": "stdout",
          "text": [
            "File u.data successfully converted to ratings.csv\n"
          ]
        }
      ]
    },
    {
      "cell_type": "code",
      "source": [
        "# Mengubah u.item file to CSV\n",
        "movies_path = convert_u_to_csv('u.item', '|', ['movieId', 'title', 'release_date', 'video_release_date', 'IMDb_URL', 'unknown', 'Action', 'Adventure', 'Animation', 'Children', 'Comedy', 'Crime', 'Documentary', 'Drama', 'Fantasy', 'Film-Noir', 'Horror', 'Musical', 'Mystery', 'Romance', 'Sci-Fi', 'Thriller', 'War', 'Western'], 'movies.csv')"
      ],
      "metadata": {
        "colab": {
          "base_uri": "https://localhost:8080/"
        },
        "id": "L-hcDpqiVNA8",
        "outputId": "b5a32951-d4df-4045-f330-9582d98c117b"
      },
      "execution_count": null,
      "outputs": [
        {
          "output_type": "stream",
          "name": "stdout",
          "text": [
            "File u.item successfully converted to movies.csv\n"
          ]
        }
      ]
    },
    {
      "cell_type": "code",
      "source": [
        "# Mengubah u.user file to CSV\n",
        "users_path = convert_u_to_csv('u.user', '|', ['userId', 'age', 'gender', 'occupation', 'zip_code'], 'users.csv')"
      ],
      "metadata": {
        "colab": {
          "base_uri": "https://localhost:8080/"
        },
        "id": "ukeoVFibVM2_",
        "outputId": "cd32e5cf-0fb6-49e3-b69d-5fe093614e62"
      },
      "execution_count": null,
      "outputs": [
        {
          "output_type": "stream",
          "name": "stdout",
          "text": [
            "File u.user successfully converted to users.csv\n"
          ]
        }
      ]
    },
    {
      "cell_type": "code",
      "source": [
        "# Mengubah u.genre file to CSV\n",
        "genre_path = convert_u_to_csv('u.genre', '|', ['genre', 'genreId'], 'genres.csv')"
      ],
      "metadata": {
        "colab": {
          "base_uri": "https://localhost:8080/"
        },
        "id": "b2TgFcqQVMnn",
        "outputId": "c235b70e-7fd0-43bf-a8e1-5e5eb22cb129"
      },
      "execution_count": null,
      "outputs": [
        {
          "output_type": "stream",
          "name": "stdout",
          "text": [
            "File u.genre successfully converted to genres.csv\n"
          ]
        }
      ]
    },
    {
      "cell_type": "code",
      "source": [
        "# Memuat dataset\n",
        "ratings = pd.read_csv(\"ratings.csv\")\n",
        "movies = pd.read_csv(\"movies.csv\")\n",
        "users = pd.read_csv(\"users.csv\")\n",
        "genres = pd.read_csv(\"genres.csv\")"
      ],
      "metadata": {
        "id": "6YoJf2-3YkEH"
      },
      "execution_count": 3,
      "outputs": []
    },
    {
      "cell_type": "code",
      "source": [
        "# Melihat informasi umum tentang dataset\n",
        "print(\"\\nInfo Dataset Ratings:\")\n",
        "print(ratings.info())"
      ],
      "metadata": {
        "colab": {
          "base_uri": "https://localhost:8080/"
        },
        "id": "dF1M1HB8YoQ8",
        "outputId": "55fb228f-7b11-4868-bbf8-0b76af682cda"
      },
      "execution_count": null,
      "outputs": [
        {
          "output_type": "stream",
          "name": "stdout",
          "text": [
            "\n",
            "Info Dataset Ratings:\n",
            "<class 'pandas.core.frame.DataFrame'>\n",
            "RangeIndex: 100000 entries, 0 to 99999\n",
            "Data columns (total 4 columns):\n",
            " #   Column     Non-Null Count   Dtype\n",
            "---  ------     --------------   -----\n",
            " 0   userId     100000 non-null  int64\n",
            " 1   movieId    100000 non-null  int64\n",
            " 2   rating     100000 non-null  int64\n",
            " 3   timestamp  100000 non-null  int64\n",
            "dtypes: int64(4)\n",
            "memory usage: 3.1 MB\n",
            "None\n"
          ]
        }
      ]
    },
    {
      "cell_type": "markdown",
      "source": [
        "**✨Dataset Ratings**\n",
        "- Jumlah Data: 100.000 entri\n",
        "\n",
        "- Jumlah Kolom: 4 kolom (userId, movieId, rating, timestamp)\n",
        "\n",
        "- Tipe Data: Seluruh kolom bertipe int64\n",
        "\n",
        "- Ukuran Memori: 3.1 MB\n",
        "\n",
        "- **Insight:** Dataset ini merepresentasikan data rating film dari pengguna. Setiap entri berisi informasi tentang ID pengguna, ID film, rating yang diberikan, dan timestamp kapan rating diberikan. Data lengkap tanpa ada nilai kosong."
      ],
      "metadata": {
        "id": "bA7Vn-FeZ4gB"
      }
    },
    {
      "cell_type": "code",
      "source": [
        "print(\"\\nInfo Dataset Movies:\")\n",
        "print(movies.info())"
      ],
      "metadata": {
        "colab": {
          "base_uri": "https://localhost:8080/"
        },
        "id": "7fPhW5BOYvH8",
        "outputId": "1222be4c-2fbc-480b-aa0e-16ec392c37ec"
      },
      "execution_count": null,
      "outputs": [
        {
          "output_type": "stream",
          "name": "stdout",
          "text": [
            "\n",
            "Info Dataset Movies:\n",
            "<class 'pandas.core.frame.DataFrame'>\n",
            "RangeIndex: 1682 entries, 0 to 1681\n",
            "Data columns (total 24 columns):\n",
            " #   Column              Non-Null Count  Dtype  \n",
            "---  ------              --------------  -----  \n",
            " 0   movieId             1682 non-null   int64  \n",
            " 1   title               1682 non-null   object \n",
            " 2   release_date        1681 non-null   object \n",
            " 3   video_release_date  0 non-null      float64\n",
            " 4   IMDb_URL            1679 non-null   object \n",
            " 5   unknown             1682 non-null   int64  \n",
            " 6   Action              1682 non-null   int64  \n",
            " 7   Adventure           1682 non-null   int64  \n",
            " 8   Animation           1682 non-null   int64  \n",
            " 9   Children            1682 non-null   int64  \n",
            " 10  Comedy              1682 non-null   int64  \n",
            " 11  Crime               1682 non-null   int64  \n",
            " 12  Documentary         1682 non-null   int64  \n",
            " 13  Drama               1682 non-null   int64  \n",
            " 14  Fantasy             1682 non-null   int64  \n",
            " 15  Film-Noir           1682 non-null   int64  \n",
            " 16  Horror              1682 non-null   int64  \n",
            " 17  Musical             1682 non-null   int64  \n",
            " 18  Mystery             1682 non-null   int64  \n",
            " 19  Romance             1682 non-null   int64  \n",
            " 20  Sci-Fi              1682 non-null   int64  \n",
            " 21  Thriller            1682 non-null   int64  \n",
            " 22  War                 1682 non-null   int64  \n",
            " 23  Western             1682 non-null   int64  \n",
            "dtypes: float64(1), int64(20), object(3)\n",
            "memory usage: 315.5+ KB\n",
            "None\n"
          ]
        }
      ]
    },
    {
      "cell_type": "markdown",
      "source": [
        "**📹Dataset Movies**\n",
        "- Jumlah Data: 1.682 entri\n",
        "\n",
        "- Jumlah Kolom: 24 kolom\n",
        "\n",
        "- Kolom Penting: movieId, title, release_date, IMDb_URL, dan 19 kolom genre\n",
        "\n",
        "- Tipe Data:\n",
        "\n",
        "  - int64 pada ID dan genre\n",
        "\n",
        "  - object pada judul, tanggal rilis, dan URL\n",
        "\n",
        "  - float64 pada video_release_date (seluruhnya kosong)\n",
        "\n",
        "- Ukuran Memori: 315.5 KB\n",
        "\n",
        "- **Insight:** Dataset ini menyimpan informasi detail tentang film, termasuk judul, tanggal rilis, URL IMDb, dan genre. Kolom video_release_date tidak memiliki data sama sekali, sehingga dapat diabaikan. Setiap film memiliki 19 kolom genre dengan nilai biner (0 atau 1) yang menunjukkan genre film tersebut."
      ],
      "metadata": {
        "id": "zpt-RnNeaJgb"
      }
    },
    {
      "cell_type": "code",
      "source": [
        "print(\"\\nInfo Dataset Users:\")\n",
        "print(users.info())"
      ],
      "metadata": {
        "colab": {
          "base_uri": "https://localhost:8080/"
        },
        "id": "YUs2vXQcYw3p",
        "outputId": "7a15626f-de81-4a58-a796-77b095e4bb30"
      },
      "execution_count": null,
      "outputs": [
        {
          "output_type": "stream",
          "name": "stdout",
          "text": [
            "\n",
            "Info Dataset Users:\n",
            "<class 'pandas.core.frame.DataFrame'>\n",
            "RangeIndex: 943 entries, 0 to 942\n",
            "Data columns (total 5 columns):\n",
            " #   Column      Non-Null Count  Dtype \n",
            "---  ------      --------------  ----- \n",
            " 0   userId      943 non-null    int64 \n",
            " 1   age         943 non-null    int64 \n",
            " 2   gender      943 non-null    object\n",
            " 3   occupation  943 non-null    object\n",
            " 4   zip_code    943 non-null    object\n",
            "dtypes: int64(2), object(3)\n",
            "memory usage: 37.0+ KB\n",
            "None\n"
          ]
        }
      ]
    },
    {
      "cell_type": "markdown",
      "source": [
        "**👥Dataset Users**\n",
        "- Jumlah Data: 943 entri\n",
        "\n",
        "- Jumlah Kolom: 5 kolom (userId, age, gender, occupation, zip_code)\n",
        "\n",
        "- Tipe Data:\n",
        "\n",
        "  - int64 pada ID dan usia\n",
        "\n",
        "  - object pada gender, pekerjaan, dan kode pos\n",
        "\n",
        "- Ukuran Memori: 37.0 KB\n",
        "\n",
        "- **Insight:** Dataset ini berisi informasi demografi pengguna, termasuk usia, jenis kelamin, pekerjaan, dan kode pos. Data lengkap tanpa ada nilai kosong."
      ],
      "metadata": {
        "id": "RRb57u5kayXl"
      }
    },
    {
      "cell_type": "code",
      "source": [
        "print(\"\\nInfo Dataset Genres:\")\n",
        "print(genres.info())"
      ],
      "metadata": {
        "colab": {
          "base_uri": "https://localhost:8080/"
        },
        "id": "tlbDj0STYyVC",
        "outputId": "84129076-13b2-45ea-fa13-51b132a76a9d"
      },
      "execution_count": null,
      "outputs": [
        {
          "output_type": "stream",
          "name": "stdout",
          "text": [
            "\n",
            "Info Dataset Genres:\n",
            "<class 'pandas.core.frame.DataFrame'>\n",
            "RangeIndex: 19 entries, 0 to 18\n",
            "Data columns (total 2 columns):\n",
            " #   Column   Non-Null Count  Dtype \n",
            "---  ------   --------------  ----- \n",
            " 0   genre    19 non-null     object\n",
            " 1   genreId  19 non-null     int64 \n",
            "dtypes: int64(1), object(1)\n",
            "memory usage: 436.0+ bytes\n",
            "None\n"
          ]
        }
      ]
    },
    {
      "cell_type": "markdown",
      "source": [
        "**🎞️Dataset Genres**\n",
        "- Jumlah Data: 19 entri\n",
        "\n",
        "- Jumlah Kolom: 2 kolom (genre, genreId)\n",
        "\n",
        "- Tipe Data:\n",
        "\n",
        "  - object pada nama genre\n",
        "\n",
        "  - int64 pada ID genre\n",
        "\n",
        "- Ukuran Memori: 436 bytes\n",
        "\n",
        "- **Insight:** Dataset ini mendefinisikan genre film dengan ID unik untuk setiap genre."
      ],
      "metadata": {
        "id": "X5vuRMyubPOM"
      }
    },
    {
      "cell_type": "code",
      "source": [
        "# Statistik Deskriptif\n",
        "print(\"\\nStatistik Deskriptif Ratings:\")\n",
        "print(ratings.describe())"
      ],
      "metadata": {
        "colab": {
          "base_uri": "https://localhost:8080/"
        },
        "id": "BpqKLAWtY5Nm",
        "outputId": "92c025e7-a93e-410f-b61f-461b2592adba"
      },
      "execution_count": null,
      "outputs": [
        {
          "output_type": "stream",
          "name": "stdout",
          "text": [
            "\n",
            "Statistik Deskriptif Ratings:\n",
            "             userId        movieId         rating     timestamp\n",
            "count  100000.00000  100000.000000  100000.000000  1.000000e+05\n",
            "mean      462.48475     425.530130       3.529860  8.835289e+08\n",
            "std       266.61442     330.798356       1.125674  5.343856e+06\n",
            "min         1.00000       1.000000       1.000000  8.747247e+08\n",
            "25%       254.00000     175.000000       3.000000  8.794487e+08\n",
            "50%       447.00000     322.000000       4.000000  8.828269e+08\n",
            "75%       682.00000     631.000000       4.000000  8.882600e+08\n",
            "max       943.00000    1682.000000       5.000000  8.932866e+08\n"
          ]
        }
      ]
    },
    {
      "cell_type": "markdown",
      "source": [
        "**Insight Statistik Deskriptif Ratings:**\n",
        "\n",
        "1. Sebagian besar rating berada di kisaran 3 hingga 4, dengan nilai rata-rata 3.53.\n",
        "\n",
        "2. Rating minimum adalah 1 dan maksimum adalah 5, menunjukkan adanya variasi pendapat pengguna terhadap film.\n",
        "\n",
        "3. User ID tersebar secara merata dari 1 hingga 943, menunjukkan banyaknya pengguna yang memberikan rating.\n",
        "\n",
        "4. Waktu pemberian rating berkisar dalam rentang waktu yang cukup luas."
      ],
      "metadata": {
        "id": "yQ6WBMcpb6-5"
      }
    },
    {
      "cell_type": "code",
      "source": [
        "print(\"\\nStatistik Deskriptif Movies:\")\n",
        "print(movies.describe())"
      ],
      "metadata": {
        "colab": {
          "base_uri": "https://localhost:8080/"
        },
        "id": "1T7eT0lbY8ix",
        "outputId": "4c25762a-9bb8-492c-9309-b675a82c7338"
      },
      "execution_count": null,
      "outputs": [
        {
          "output_type": "stream",
          "name": "stdout",
          "text": [
            "\n",
            "Statistik Deskriptif Movies:\n",
            "           movieId  video_release_date      unknown       Action    Adventure  \\\n",
            "count  1682.000000                 0.0  1682.000000  1682.000000  1682.000000   \n",
            "mean    841.500000                 NaN     0.001189     0.149227     0.080262   \n",
            "std     485.695893                 NaN     0.034473     0.356418     0.271779   \n",
            "min       1.000000                 NaN     0.000000     0.000000     0.000000   \n",
            "25%     421.250000                 NaN     0.000000     0.000000     0.000000   \n",
            "50%     841.500000                 NaN     0.000000     0.000000     0.000000   \n",
            "75%    1261.750000                 NaN     0.000000     0.000000     0.000000   \n",
            "max    1682.000000                 NaN     1.000000     1.000000     1.000000   \n",
            "\n",
            "         Animation     Children       Comedy        Crime  Documentary  ...  \\\n",
            "count  1682.000000  1682.000000  1682.000000  1682.000000  1682.000000  ...   \n",
            "mean      0.024970     0.072533     0.300238     0.064804     0.029727  ...   \n",
            "std       0.156081     0.259445     0.458498     0.246253     0.169882  ...   \n",
            "min       0.000000     0.000000     0.000000     0.000000     0.000000  ...   \n",
            "25%       0.000000     0.000000     0.000000     0.000000     0.000000  ...   \n",
            "50%       0.000000     0.000000     0.000000     0.000000     0.000000  ...   \n",
            "75%       0.000000     0.000000     1.000000     0.000000     0.000000  ...   \n",
            "max       1.000000     1.000000     1.000000     1.000000     1.000000  ...   \n",
            "\n",
            "          Fantasy    Film-Noir       Horror      Musical      Mystery  \\\n",
            "count  1682.00000  1682.000000  1682.000000  1682.000000  1682.000000   \n",
            "mean      0.01308     0.014269     0.054697     0.033294     0.036266   \n",
            "std       0.11365     0.118632     0.227455     0.179456     0.187008   \n",
            "min       0.00000     0.000000     0.000000     0.000000     0.000000   \n",
            "25%       0.00000     0.000000     0.000000     0.000000     0.000000   \n",
            "50%       0.00000     0.000000     0.000000     0.000000     0.000000   \n",
            "75%       0.00000     0.000000     0.000000     0.000000     0.000000   \n",
            "max       1.00000     1.000000     1.000000     1.000000     1.000000   \n",
            "\n",
            "           Romance       Sci-Fi     Thriller          War      Western  \n",
            "count  1682.000000  1682.000000  1682.000000  1682.000000  1682.000000  \n",
            "mean      0.146849     0.060048     0.149227     0.042212     0.016052  \n",
            "std       0.354061     0.237646     0.356418     0.201131     0.125714  \n",
            "min       0.000000     0.000000     0.000000     0.000000     0.000000  \n",
            "25%       0.000000     0.000000     0.000000     0.000000     0.000000  \n",
            "50%       0.000000     0.000000     0.000000     0.000000     0.000000  \n",
            "75%       0.000000     0.000000     0.000000     0.000000     0.000000  \n",
            "max       1.000000     1.000000     1.000000     1.000000     1.000000  \n",
            "\n",
            "[8 rows x 21 columns]\n"
          ]
        }
      ]
    },
    {
      "cell_type": "markdown",
      "source": [
        "**Insight Statistik Deskriptif Movies:**\n",
        "\n",
        "1. Terdapat 1.682 film dengan berbagai genre.\n",
        "\n",
        "2. Genre paling umum adalah Comedy (30%), diikuti Action (15%) dan Romance (14.7%).\n",
        "\n",
        "3. Beberapa genre sangat jarang muncul, seperti Fantasy (1.3%), Film-Noir (1.4%), dan Western (1.6%)."
      ],
      "metadata": {
        "id": "4nCX--qPcFUq"
      }
    },
    {
      "cell_type": "code",
      "source": [
        "print(\"\\nStatistik Deskriptif Users:\")\n",
        "print(users.describe())"
      ],
      "metadata": {
        "colab": {
          "base_uri": "https://localhost:8080/"
        },
        "id": "6R8fCO7hY8XG",
        "outputId": "147ecd35-78d3-4b88-8d7f-b0b2a7cea363"
      },
      "execution_count": null,
      "outputs": [
        {
          "output_type": "stream",
          "name": "stdout",
          "text": [
            "\n",
            "Statistik Deskriptif Users:\n",
            "           userId         age\n",
            "count  943.000000  943.000000\n",
            "mean   472.000000   34.051962\n",
            "std    272.364951   12.192740\n",
            "min      1.000000    7.000000\n",
            "25%    236.500000   25.000000\n",
            "50%    472.000000   31.000000\n",
            "75%    707.500000   43.000000\n",
            "max    943.000000   73.000000\n"
          ]
        }
      ]
    },
    {
      "cell_type": "markdown",
      "source": [
        "**Insight Statistik Deskriptif Users:**\n",
        "\n",
        "1. Terdapat 943 pengguna dengan rentang usia dari 7 hingga 73 tahun.\n",
        "\n",
        "2. Rata-rata usia pengguna adalah sekitar 34 tahun, menunjukkan dominasi pengguna dewasa muda.\n",
        "\n",
        "3. Mayoritas pengguna berusia antara 25 hingga 43 tahun, yang merupakan segmen pengguna paling aktif."
      ],
      "metadata": {
        "id": "QuY4C7sQcTYX"
      }
    },
    {
      "cell_type": "code",
      "source": [
        "print(\"\\nStatistik Deskriptif Genres:\")\n",
        "print(genres.describe())"
      ],
      "metadata": {
        "colab": {
          "base_uri": "https://localhost:8080/"
        },
        "id": "RgsXV22yZAPO",
        "outputId": "e300a09e-c60a-436b-d872-86be39a53378"
      },
      "execution_count": null,
      "outputs": [
        {
          "output_type": "stream",
          "name": "stdout",
          "text": [
            "\n",
            "Statistik Deskriptif Genres:\n",
            "         genreId\n",
            "count  19.000000\n",
            "mean    9.000000\n",
            "std     5.627314\n",
            "min     0.000000\n",
            "25%     4.500000\n",
            "50%     9.000000\n",
            "75%    13.500000\n",
            "max    18.000000\n"
          ]
        }
      ]
    },
    {
      "cell_type": "markdown",
      "source": [
        "**Insight Statistik Deskriptif Genres:**\n",
        "\n",
        "1. Terdapat 19 genre film dalam dataset.\n",
        "\n",
        "2. Genre dengan ID maksimum adalah 18, sementara ID minimum adalah 0, menandakan adanya berbagai macam kategori film.\n",
        "\n",
        "3. Genre rata-rata memiliki ID di sekitar angka 9, dengan variasi yang cukup besar."
      ],
      "metadata": {
        "id": "maIHdDFXcikE"
      }
    },
    {
      "cell_type": "markdown",
      "source": [
        "# **Data Preparation**"
      ],
      "metadata": {
        "id": "SHuLJAbcd5FY"
      }
    },
    {
      "cell_type": "markdown",
      "source": [
        "**Pada tahap ini langkah yang dilakukan yaitu mengubah .u file menjadi csv file, pengecekan dan penanganan data hilang, transformasi data, penggabungan dataset ratings dan movies untuk mempermudah pembuatan matriks user-item yang mengandung informasi rating dan judul film pembagian data, serta Menggunakan TF-IDF Vectorizer untuk algoritma CBF untuk mengubah judul & Genre film menjadi representasi vektor numerik yang bermakna.**\n",
        "\n",
        "Mengapa Tahap Data Preparation Diperlukan:\n",
        "1. Mengatasi data yang hilang agar tidak mengganggu proses analisis dan model.\n",
        "2. Melakukan transformasi agar data lebih terstruktur dan dapat digunakan oleh model.\n",
        "3. Menghasilkan data yang lebih konsisten dan bebas dari error yang dapat mempengaruhi hasil prediksi.\n",
        "4. Meningkatkan akurasi dan kinerja model dengan data yang bersih dan terstruktur."
      ],
      "metadata": {
        "id": "n6LBl3A9eBuy"
      }
    },
    {
      "cell_type": "code",
      "source": [
        "# Mengecek nilai hilang pada setiap kolom\n",
        "def check_missing_values(df):\n",
        "    print(\"\\nJumlah nilai hilang per kolom:\")\n",
        "    print(df.isnull().sum())"
      ],
      "metadata": {
        "id": "Vo6uoVjJdTUk"
      },
      "execution_count": 4,
      "outputs": []
    },
    {
      "cell_type": "code",
      "source": [
        "print(\"\\nPengecekan Nilai Hilang pada Ratings:\")\n",
        "check_missing_values(ratings)"
      ],
      "metadata": {
        "colab": {
          "base_uri": "https://localhost:8080/"
        },
        "id": "pZTa1NHodVcn",
        "outputId": "2fee925f-4ccd-4932-f3b5-fcb3157f9169"
      },
      "execution_count": 5,
      "outputs": [
        {
          "output_type": "stream",
          "name": "stdout",
          "text": [
            "\n",
            "Pengecekan Nilai Hilang pada Ratings:\n",
            "\n",
            "Jumlah nilai hilang per kolom:\n",
            "userId       0\n",
            "movieId      0\n",
            "rating       0\n",
            "timestamp    0\n",
            "dtype: int64\n"
          ]
        }
      ]
    },
    {
      "cell_type": "code",
      "source": [
        "print(\"\\nPengecekan Nilai Hilang pada Movies:\")\n",
        "check_missing_values(movies)"
      ],
      "metadata": {
        "colab": {
          "base_uri": "https://localhost:8080/"
        },
        "id": "kfgnR2spdVTk",
        "outputId": "979abf67-435b-4b27-e9bf-cf20894fa49e"
      },
      "execution_count": 6,
      "outputs": [
        {
          "output_type": "stream",
          "name": "stdout",
          "text": [
            "\n",
            "Pengecekan Nilai Hilang pada Movies:\n",
            "\n",
            "Jumlah nilai hilang per kolom:\n",
            "movieId                  0\n",
            "title                    0\n",
            "release_date             1\n",
            "video_release_date    1682\n",
            "IMDb_URL                 3\n",
            "unknown                  0\n",
            "Action                   0\n",
            "Adventure                0\n",
            "Animation                0\n",
            "Children                 0\n",
            "Comedy                   0\n",
            "Crime                    0\n",
            "Documentary              0\n",
            "Drama                    0\n",
            "Fantasy                  0\n",
            "Film-Noir                0\n",
            "Horror                   0\n",
            "Musical                  0\n",
            "Mystery                  0\n",
            "Romance                  0\n",
            "Sci-Fi                   0\n",
            "Thriller                 0\n",
            "War                      0\n",
            "Western                  0\n",
            "dtype: int64\n"
          ]
        }
      ]
    },
    {
      "cell_type": "code",
      "source": [
        "print(\"\\nPengecekan Nilai Hilang pada Users:\")\n",
        "check_missing_values(users)"
      ],
      "metadata": {
        "colab": {
          "base_uri": "https://localhost:8080/"
        },
        "id": "oGCGCyHMdVJ2",
        "outputId": "11a564ce-b101-42d7-9267-4b6e76cdbf40"
      },
      "execution_count": 7,
      "outputs": [
        {
          "output_type": "stream",
          "name": "stdout",
          "text": [
            "\n",
            "Pengecekan Nilai Hilang pada Users:\n",
            "\n",
            "Jumlah nilai hilang per kolom:\n",
            "userId        0\n",
            "age           0\n",
            "gender        0\n",
            "occupation    0\n",
            "zip_code      0\n",
            "dtype: int64\n"
          ]
        }
      ]
    },
    {
      "cell_type": "code",
      "source": [
        "print(\"\\nPengecekan Nilai Hilang pada Genres:\")\n",
        "check_missing_values(genres)"
      ],
      "metadata": {
        "colab": {
          "base_uri": "https://localhost:8080/"
        },
        "id": "qvu2WNltdajn",
        "outputId": "92b321a4-2e2b-43f1-a36a-0cd9fd7b9372"
      },
      "execution_count": 8,
      "outputs": [
        {
          "output_type": "stream",
          "name": "stdout",
          "text": [
            "\n",
            "Pengecekan Nilai Hilang pada Genres:\n",
            "\n",
            "Jumlah nilai hilang per kolom:\n",
            "genre      0\n",
            "genreId    0\n",
            "dtype: int64\n"
          ]
        }
      ]
    },
    {
      "cell_type": "code",
      "source": [
        "# Informasi Statistik untuk Kolom dengan Nilai Hilang pada Movies\n",
        "print('\\nInformasi Statistik pada Kolom dengan Nilai Hilang pada Movies:')\n",
        "print(movies[['release_date', 'video_release_date', 'IMDb_URL']].describe(include='all'))"
      ],
      "metadata": {
        "colab": {
          "base_uri": "https://localhost:8080/"
        },
        "id": "DVmaq8jJqVPe",
        "outputId": "3e1e2b55-1f62-4092-c7d0-a6fe4fd79ce5"
      },
      "execution_count": 9,
      "outputs": [
        {
          "output_type": "stream",
          "name": "stdout",
          "text": [
            "\n",
            "Informasi Statistik pada Kolom dengan Nilai Hilang pada Movies:\n",
            "       release_date  video_release_date  \\\n",
            "count          1681                 0.0   \n",
            "unique          240                 NaN   \n",
            "top     01-Jan-1995                 NaN   \n",
            "freq            215                 NaN   \n",
            "mean            NaN                 NaN   \n",
            "std             NaN                 NaN   \n",
            "min             NaN                 NaN   \n",
            "25%             NaN                 NaN   \n",
            "50%             NaN                 NaN   \n",
            "75%             NaN                 NaN   \n",
            "max             NaN                 NaN   \n",
            "\n",
            "                                                 IMDb_URL  \n",
            "count                                                1679  \n",
            "unique                                               1660  \n",
            "top     http://us.imdb.com/M/title-exact?That%20Darn%2...  \n",
            "freq                                                    2  \n",
            "mean                                                  NaN  \n",
            "std                                                   NaN  \n",
            "min                                                   NaN  \n",
            "25%                                                   NaN  \n",
            "50%                                                   NaN  \n",
            "75%                                                   NaN  \n",
            "max                                                   NaN  \n"
          ]
        }
      ]
    },
    {
      "cell_type": "markdown",
      "source": [
        "## Insight :\n",
        "**Kolom release_date:**\n",
        "\n",
        "- Terdapat 1 nilai hilang dari total 1682 data.\n",
        "\n",
        "- Format tanggal yang digunakan adalah DD-MMM-YYYY.\n",
        "\n",
        "- Tanggal yang paling sering muncul adalah 01-Jan-1995, sebanyak 215 kali.\n",
        "\n",
        "**Kolom video_release_date:**\n",
        "\n",
        "- Seluruh nilai pada kolom ini hilang (1682 nilai hilang), sehingga tidak memberikan informasi apapun.\n",
        "\n",
        "- Kolom ini akan dihapus karena tidak berkontribusi terhadap analisis.\n",
        "\n",
        "**Kolom IMDb_URL:**\n",
        "\n",
        "1. Terdapat 3 nilai hilang.\n",
        "\n",
        "2. URL yang paling sering muncul adalah \"http://us.imdb.com/M/title-exact?That%20Darn%20Cat!%20(1997)\", sebanyak 2 kali."
      ],
      "metadata": {
        "id": "tG0eDdw5q9t2"
      }
    },
    {
      "cell_type": "markdown",
      "source": [
        "# A. Data Cleaning"
      ],
      "metadata": {
        "id": "pefccsv1sZe-"
      }
    },
    {
      "cell_type": "markdown",
      "source": [
        "### **Mengatasi permasalahan nilai hilang agar model tidak mengalami error atau bias.**"
      ],
      "metadata": {
        "id": "zDhETxm7uZo9"
      }
    },
    {
      "cell_type": "code",
      "source": [
        "# Menghapus kolom dengan seluruh nilai hilang (video_release_date)\n",
        "movies.drop(columns=['video_release_date'], inplace=True)"
      ],
      "metadata": {
        "id": "cek4GLeAqySt"
      },
      "execution_count": 10,
      "outputs": []
    },
    {
      "cell_type": "code",
      "source": [
        "# Menghapus baris dengan nilai hilang pada release_date dan IMDb_URL\n",
        "movies.dropna(subset=['release_date', 'IMDb_URL'], inplace=True)"
      ],
      "metadata": {
        "id": "2RVmYQr7rxpR"
      },
      "execution_count": 11,
      "outputs": []
    },
    {
      "cell_type": "markdown",
      "source": [
        "# B. Transformasi Data"
      ],
      "metadata": {
        "id": "6WArgpK7u6P9"
      }
    },
    {
      "cell_type": "markdown",
      "source": [
        "### **Melakukan transformasi data sehingga lebih mudah diolah pada tahap modeling.**"
      ],
      "metadata": {
        "id": "TL9BVrW0u8uv"
      }
    },
    {
      "cell_type": "code",
      "source": [
        "# Transformasi timestamp ke datetime\n",
        "ratings['timestamp'] = pd.to_datetime(ratings['timestamp'], unit='s')"
      ],
      "metadata": {
        "id": "TkQPlcnGr5e0"
      },
      "execution_count": 12,
      "outputs": []
    },
    {
      "cell_type": "code",
      "source": [
        "# Mengecek Kembali Nilai Hilang pada Dataset Movies\n",
        "print(\"\\nPengecekan Nilai Hilang pada Movies:\")\n",
        "check_missing_values(movies)"
      ],
      "metadata": {
        "colab": {
          "base_uri": "https://localhost:8080/"
        },
        "id": "_6M7eU1isB67",
        "outputId": "58b82823-db14-45ae-bbc6-b5ca7846c4f1"
      },
      "execution_count": 13,
      "outputs": [
        {
          "output_type": "stream",
          "name": "stdout",
          "text": [
            "\n",
            "Pengecekan Nilai Hilang pada Movies:\n",
            "\n",
            "Jumlah nilai hilang per kolom:\n",
            "movieId         0\n",
            "title           0\n",
            "release_date    0\n",
            "IMDb_URL        0\n",
            "unknown         0\n",
            "Action          0\n",
            "Adventure       0\n",
            "Animation       0\n",
            "Children        0\n",
            "Comedy          0\n",
            "Crime           0\n",
            "Documentary     0\n",
            "Drama           0\n",
            "Fantasy         0\n",
            "Film-Noir       0\n",
            "Horror          0\n",
            "Musical         0\n",
            "Mystery         0\n",
            "Romance         0\n",
            "Sci-Fi          0\n",
            "Thriller        0\n",
            "War             0\n",
            "Western         0\n",
            "dtype: int64\n"
          ]
        }
      ]
    },
    {
      "cell_type": "code",
      "source": [
        "# Mengecek Kembali Informasi Statistik untuk Kolom dengan Nilai Hilang pada Movies\n",
        "print('\\nInformasi Statistik pada Kolom dengan Nilai Hilang pada Movies:')\n",
        "print(movies[['release_date', 'IMDb_URL']].describe(include='all'))"
      ],
      "metadata": {
        "colab": {
          "base_uri": "https://localhost:8080/"
        },
        "id": "EyAP9W4csHlF",
        "outputId": "fc8c2b37-bdee-4c7a-c38f-f586a080a7f5"
      },
      "execution_count": 14,
      "outputs": [
        {
          "output_type": "stream",
          "name": "stdout",
          "text": [
            "\n",
            "Informasi Statistik pada Kolom dengan Nilai Hilang pada Movies:\n",
            "       release_date                                           IMDb_URL\n",
            "count          1679                                               1679\n",
            "unique          238                                               1660\n",
            "top     01-Jan-1995  http://us.imdb.com/M/title-exact?That%20Darn%2...\n",
            "freq            215                                                  2\n"
          ]
        }
      ]
    },
    {
      "cell_type": "markdown",
      "source": [
        "# C. Penggabungan Dataset"
      ],
      "metadata": {
        "id": "8oU0yMAsv3kK"
      }
    },
    {
      "cell_type": "markdown",
      "source": [
        "### **Dataset ratings dan movies digabungkan berdasarkan kolom movieId. Hal ini dilakukan untuk mempermudah pembuatan matriks user-item yang mengandung informasi rating dan judul film.**"
      ],
      "metadata": {
        "id": "04hhi0avwGli"
      }
    },
    {
      "cell_type": "code",
      "source": [
        "# Penggabungan data ratings dan movies\n",
        "data = pd.merge(ratings, movies, on='movieId')"
      ],
      "metadata": {
        "id": "ai8D0UvMv4Oe"
      },
      "execution_count": 15,
      "outputs": []
    },
    {
      "cell_type": "markdown",
      "source": [
        "# D. Data Splitting"
      ],
      "metadata": {
        "id": "656-yrErzNN3"
      }
    },
    {
      "cell_type": "markdown",
      "source": [
        "### **Pada Tahap ini data dibagi menjadi 80/20 untuk data training dan data testing.**"
      ],
      "metadata": {
        "id": "boyr_0GvzU77"
      }
    },
    {
      "cell_type": "code",
      "source": [
        "# Data splitting\n",
        "train_data, test_data = train_test_split(data, test_size=0.2, random_state=42)"
      ],
      "metadata": {
        "id": "Jm440jD8zTLz"
      },
      "execution_count": 16,
      "outputs": []
    },
    {
      "cell_type": "markdown",
      "source": [
        "# **Modeling**"
      ],
      "metadata": {
        "id": "2WAfCVZlysfv"
      }
    },
    {
      "cell_type": "markdown",
      "source": [
        "1. Kelebihan: CF dapat memanfaatkan interaksi pengguna, sedangkan CBF dapat merekomendasikan item baru.\n",
        "\n",
        "2. Kekurangan: CF membutuhkan data yang cukup banyak dan padat, sementara CBF bergantung pada informasi konten.\n",
        "\n",
        "Berikut penjelasan cara kerja setiap algoritma yang digunakan dalam solusi rekomendasi beserta parameter yang digunakan:\n",
        "\n",
        "### **1. Collaborative Filtering (CF) - Singular Value Decomposition (SVD)**\n",
        "\n",
        "Collaborative Filtering digunakan untuk memprediksi rating pengguna terhadap film yang belum ditonton berdasarkan pola interaksi pengguna lainnya. Pendekatan ini menggunakan User-Item Matrix dan algoritma SVD (Singular Value Decomposition).\n",
        "\n",
        "📌Cara Kerja:\n",
        "- Membentuk User-Item Matrix, yaitu matriks yang merepresentasikan hubungan antara pengguna (user) dan film (item) berdasarkan rating yang diberikan. Jika pengguna belum memberikan rating, nilai diisi dengan 0. ```pivot()```digunakan untuk membuat matriks pengguna-item.\n",
        "\n",
        "- Mengubah matriks ini menjadi format sparse matrix menggunakan ```csr_matrix()``` dari SciPy, karena sebagian besar nilai dalam matriks ini adalah nol (sparsity).\n",
        "\n",
        "- Menggunakan SVD (svds()) untuk mendekomposisi matriks menjadi tiga komponen:\n",
        "\n",
        "  1. U: Matriks fitur pengguna (dimensi: jumlah pengguna × k)\n",
        "\n",
        "  2. σ (sigma): Matriks diagonal dengan singular values (dimensi: k × k)\n",
        "\n",
        "  3. Vt: Matriks fitur film (dimensi: k × jumlah film)\n",
        "\n",
        "- Melakukan perkalian kembali U × sigma × Vt untuk membentuk matriks prediksi rating.\n",
        "\n",
        "- Hasilnya digunakan untuk merekomendasikan film dengan prediksi rating tertinggi bagi pengguna.\n",
        "\n",
        "**🪢Parameter yang Digunakan:**\n",
        "- k=50 → Menentukan jumlah fitur laten (latent factors) dalam dekomposisi SVD. Default tidak digunakan; angka 50 dipilih untuk keseimbangan antara akurasi dan efisiensi.\n",
        "\n",
        "- fillna(0) → Mengisi nilai kosong dalam user-item matrix dengan 0 agar bisa diproses oleh SVD.\n",
        "\n",
        "- csr_matrix(user_item_matrix) → Mengubah user-item matrix menjadi sparse matrix agar lebih efisien dalam penyimpanan dan komputasi.\n",
        "\n",
        "\n",
        "### **2. Content-Based Filtering (CBF) - TF-IDF & Cosine Similarity**\n",
        "\n",
        "Content-Based Filtering merekomendasikan film berdasarkan kesamaan atribut film, dalam hal ini menggunakan judul film sebagai fitur untuk menemukan kemiripan antar film dan Cosine Similarity.\n",
        "\n",
        "📌Cara Kerja:\n",
        "- Menggunakan TF-IDF (Term Frequency - Inverse Document Frequency) untuk mengubah **judul** dan **genre** film menjadi representasi vektor yang lebih bermakna.\n",
        "\n",
        "- Menghitung cosine similarity antar film berdasarkan representasi TF-IDF untuk menemukan film yang mirip satu sama lain.\n",
        "\n",
        "- Film yang memiliki nilai similarity tertinggi dengan film yang telah ditonton pengguna akan direkomendasikan.\n",
        "\n",
        "> Cosine Similarity menghitung kesamaan antar film berdasarkan vektor TF-IDF.\n",
        "\n",
        "**Nilai cosine similarity berada di rentang 0 hingga 1, dengan 1 berarti sangat mirip.**\n",
        "\n",
        "**🪢Parameter yang Digunakan:**\n",
        "- stop_words='english' → Menghilangkan kata-kata umum dalam bahasa Inggris yang tidak relevan untuk analisis.\n",
        "\n",
        "- fillna('') → Mengisi nilai kosong dalam kolom judul film agar tidak menyebabkan error saat diproses oleh TF-IDF.\n",
        "\n",
        "- cosine_similarity(tfidf_matrix) → Menghitung kesamaan antar film berdasarkan hasil vektorisasi TF-IDF.\n",
        "\n",
        "**Kesimpulan**\n",
        "\n",
        "1. Collaborative Filtering (CF) dengan SVD digunakan untuk memprediksi rating film berdasarkan preferensi pengguna lain yang memiliki kesamaan pola.\n",
        "\n",
        "2. Content-Based Filtering (CBF) dengan TF-IDF dan Cosine Similarity digunakan untuk merekomendasikan film berdasarkan kesamaan atribut (judul film).\n",
        "\n",
        "3. Parameter yang digunakan telah disesuaikan untuk efisiensi dan akurasi rekomendasi, seperti k=50 dalam SVD dan stop_words='english' dalam TF-IDF."
      ],
      "metadata": {
        "id": "HbrH06Qk0-HB"
      }
    },
    {
      "cell_type": "code",
      "source": [
        "# Collaborative Filtering (User-Item Matrix)\n",
        "from scipy.sparse import csr_matrix\n",
        "\n",
        "user_item_matrix = data.pivot(index='userId', columns='movieId', values='rating').fillna(0)\n",
        "user_item_matrix_sparse = csr_matrix(user_item_matrix)\n",
        "U, sigma, Vt = svds(user_item_matrix_sparse, k=50)\n",
        "sigma = np.diag(sigma)\n",
        "pred_ratings = np.dot(np.dot(U, sigma), Vt)\n",
        "pred_ratings_df = pd.DataFrame(pred_ratings, columns=user_item_matrix.columns)"
      ],
      "metadata": {
        "id": "gaOEezB7y2uA"
      },
      "execution_count": 17,
      "outputs": []
    },
    {
      "cell_type": "code",
      "source": [
        "# Content-Based Filtering (TF-IDF)\n",
        "# Gabungkan judul dan genre jadi satu string fitur\n",
        "def create_combined_features(df):\n",
        "    genres = df.iloc[:, 5:24]  # ambil kolom genre\n",
        "    df['genre_str'] = genres.apply(lambda x: ' '.join([col for col in genres.columns if x[col] == 1]), axis=1)\n",
        "    df['combined'] = df['title'] + ' ' + df['genre_str']\n",
        "    return df\n",
        "\n",
        "# Terapkan ke dataset\n",
        "movies = create_combined_features(movies)\n",
        "\n",
        "# Hitung TF-IDF dari gabungan judul dan genre\n",
        "tfidf = TfidfVectorizer(stop_words='english')\n",
        "tfidf_matrix = tfidf.fit_transform(movies['combined'].fillna(''))\n",
        "\n",
        "# Hitung cosine similarity\n",
        "content_sim = cosine_similarity(tfidf_matrix)"
      ],
      "metadata": {
        "id": "9QHFd5qYzkGP"
      },
      "execution_count": 49,
      "outputs": []
    },
    {
      "cell_type": "markdown",
      "source": [
        "## Top-N Rekomendasi\n",
        "\n",
        "**✅ Rekomendasi CF untuk User ID = 1 (Top-10):**\n",
        "- Toy Story (1995)\n",
        "- Usual Suspects, The (1995)\n",
        "- Star Wars (1977)\n",
        "- Blade Runner (1982)\n",
        "- Fargo (1996)\n",
        "- 2001: A Space Odyssey (1968)\n",
        "- Aliens (1986)\n",
        "- Alien (1979)\n",
        "- Chasing Amy (1997)\n",
        "- Full Monty, The (1997)\n",
        "\n",
        "**✅ Rekomendasi CBF untuk Movie ID 1 (Top-10):**\n",
        "- Pyromaniac's Love Story, A (1995)\n",
        "- Balto (1995)\n",
        "- Goofy Movie, A (1995)\n",
        "- NeverEnding Story III, The (1994)\n",
        "- Pocahontas (1995)\n",
        "- FairyTale: A True Story (1997)\n",
        "- Philadelphia Story, The (1940)\n",
        "- Story of Xinghua, The (1993)\n",
        "- Gumby: The Movie (1995)\n",
        "- Aladdin (1992)\n",
        "\n",
        "**✅ Rekomendasi Hybrid untuk User 1 (Top-10):**\n",
        "- Star Wars (1977)\n",
        "- Fargo (1996)\n",
        "- Empire Strikes Back, The (1980)\n",
        "- Aliens (1986)\n",
        "- Alien (1979)\n",
        "- Terminator, The (1984)\n",
        "- Star Trek: First Contact (1996)\n",
        "- Sneakers (1992)\n",
        "- Men in Black (1997)\n",
        "- Contact (1997)"
      ],
      "metadata": {
        "id": "BiaghzAF6pE8"
      }
    },
    {
      "cell_type": "markdown",
      "source": [
        "## **✅Fungsi Rekomendasi CF**"
      ],
      "metadata": {
        "id": "5RgBxauSlxhh"
      }
    },
    {
      "cell_type": "code",
      "source": [
        "# Fungsi rekomendasi CF\n",
        "def recommend_cf(user_id, top_n=10):\n",
        "    user_ratings = pred_ratings_df.loc[user_id - 1].sort_values(ascending=False)\n",
        "    recommended_movie_ids = user_ratings.head(top_n).index\n",
        "    return recommended_movie_ids.tolist()"
      ],
      "metadata": {
        "id": "xLfZ1x3lVhBE"
      },
      "execution_count": 40,
      "outputs": []
    },
    {
      "cell_type": "markdown",
      "source": [
        "**recommend_cf:**\n",
        "\n",
        "- Fungsi ini menerima ```user_id``` dan jumlah rekomendasi yang diinginkan ```(top_n)```.\n",
        "\n",
        "- Menggunakan ```pred_ratings_df``` (yang berisi prediksi rating untuk setiap user dan film), dan mengurutkan berdasarkan rating tertinggi.\n",
        "\n",
        "- Mengembalikan daftar judul film yang memiliki rating tertinggi untuk user tersebut."
      ],
      "metadata": {
        "id": "TjjfMTmkeb3G"
      }
    },
    {
      "cell_type": "markdown",
      "source": [
        "## **✅Fungsi Rekomendasi CBF**"
      ],
      "metadata": {
        "id": "Tq6aOk_4l9H6"
      }
    },
    {
      "cell_type": "code",
      "source": [
        "# Content-based Filtering (CBF)\n",
        "def recommend_cbf(movie_id, num_recommendations=10):\n",
        "    # Memastikan movie_id ada dalam dataset movies\n",
        "    if movie_id not in movies['movieId'].values:\n",
        "        print(f'Movie ID {movie_id} tidak ditemukan.')\n",
        "        return []\n",
        "\n",
        "    # Mendapatkan index film berdasarkan movie_id\n",
        "    idx = movies[movies['movieId'] == movie_id].index[0]\n",
        "\n",
        "    # Mengambil skor kesamaan untuk film tersebut\n",
        "    sim_scores = list(enumerate(content_sim[idx]))\n",
        "\n",
        "    # Mengurutkan skor kesamaan berdasarkan nilai tertinggi\n",
        "    sim_scores = sorted(sim_scores, key=lambda x: x[1], reverse=True)\n",
        "\n",
        "    # Mengambil indeks film yang paling mirip\n",
        "    movie_indices = [i[0] for i in sim_scores[1:num_recommendations + 1]]\n",
        "\n",
        "    # Mengembalikan judul film yang direkomendasikan\n",
        "    return movies['title'].iloc[movie_indices].tolist()"
      ],
      "metadata": {
        "id": "TEufnRNWVmMB"
      },
      "execution_count": 50,
      "outputs": []
    },
    {
      "cell_type": "markdown",
      "source": [
        "**recommend_cbf:**\n",
        "\n",
        "- Fungsi ini menerima ```movie_id``` dan jumlah rekomendasi yang diinginkan.\n",
        "\n",
        "- Memeriksa apakah ```movie_id``` ada dalam dataset movies. Jika ada, dihitung skor kesamaan menggunakan ```content_sim``` untuk film tersebut.\n",
        "\n",
        "- Rekomendasi didasarkan pada kesamaan konten (berdasarkan **judul** dan **genre** film yang serupa).\n",
        "\n",
        "- Mengembalikan daftar judul dan genre film yang paling mirip."
      ],
      "metadata": {
        "id": "JSjahVJekY2y"
      }
    },
    {
      "cell_type": "markdown",
      "source": [
        "## **✅Fungsi Rekomendasi Hybrid (CF-CBF)**"
      ],
      "metadata": {
        "id": "p3Boz4GInMsu"
      }
    },
    {
      "cell_type": "code",
      "source": [
        "# Hybrid Recommendation Function\n",
        "def recommend_hybrid(user_id, alpha=0.5, top_n=10):\n",
        "    # Ambil prediksi rating dari CF\n",
        "    cf_scores = pred_ratings_df.loc[user_id - 1]  # index mulai dari 0\n",
        "\n",
        "    # Ambil preferensi user terhadap item dari user-item matrix\n",
        "    user_interactions = user_item_matrix.loc[user_id]\n",
        "    cbf_scores = user_interactions @ content_sim  # dot product user vector dan content similarity matrix\n",
        "\n",
        "    # Normalisasi skor (min-max scaling)\n",
        "    cf_norm = (cf_scores - cf_scores.min()) / (cf_scores.max() - cf_scores.min())\n",
        "    cbf_norm = (cbf_scores - cbf_scores.min()) / (cbf_scores.max() - cbf_scores.min())\n",
        "\n",
        "    # Gabungkan CF dan CBF\n",
        "    hybrid_scores = alpha * cf_norm + (1 - alpha) * cbf_norm\n",
        "\n",
        "    # Ambil top-N movieId\n",
        "    recommended_ids = hybrid_scores.sort_values(ascending=False).head(top_n).index\n",
        "    return recommended_ids.tolist()"
      ],
      "metadata": {
        "id": "qevW65ZUnI0X"
      },
      "execution_count": 53,
      "outputs": []
    },
    {
      "cell_type": "markdown",
      "source": [
        "**Model hybrid dalam proyek ini menggabungkan prediksi dari Collaborative Filtering (CF) dan Content-Based Filtering (CBF) secara linier, untuk menghasilkan rekomendasi yang lebih seimbang antara preferensi pengguna dan kemiripan konten film.**\n",
        "\n",
        "**📌 Konsep Penggabungan:**\n",
        "\n",
        "**1. CF Prediction ```(pred_ratings_df)```:**\n",
        "\n",
        "  Prediksi rating yang dihasilkan oleh model Singular Value Decomposition (SVD) berdasarkan pola interaksi pengguna terhadap film.\n",
        "\n",
        "**2. CBF Prediction ```(user_item_matrix @ content_sim)```:**\n",
        "\n",
        "Skor preferensi berdasarkan kemiripan konten antar film, dihitung melalui dot product antara user_item_matrix dan matriks kemiripan konten (content_sim).\n",
        "\n",
        "_Hybrid Score: Gabungan linier dari CF dan CBF dengan formula:_\n",
        "\n",
        "`hybrid_score = alpha * cf_score + (1 - alpha) * cbf_score`\n",
        "\n",
        "**Nilai alpha = 0.5** digunakan untuk memberi bobot seimbang antara CF dan CBF.\n",
        "\n",
        "\n",
        "**📈 Keunggulan Model Hybrid:**\n",
        "\n",
        "✅ Mengombinasikan kekuatan dua pendekatan:\n",
        "\n",
        "- CF memanfaatkan interaksi pengguna-berbasis rating.\n",
        "\n",
        "- CBF mempertimbangkan fitur konten dari film (misalnya judul, genre).\n",
        "\n",
        "🔄 Mengurangi masalah cold-start:\n",
        "\n",
        "- Cold-start item: Film baru tanpa rating tetap bisa direkomendasikan melalui kemiripan konten (CBF).\n",
        "\n",
        "- Cold-start user: Jika user memiliki beberapa interaksi, CF tetap bisa berkontribusi dalam prediksi.\n",
        "\n",
        "🎯 Rekomendasi lebih personal dan relevan, karena mempertimbangkan baik preferensi eksplisit pengguna maupun kemiripan film yang pernah disukai."
      ],
      "metadata": {
        "id": "azIfiyKjniGZ"
      }
    },
    {
      "cell_type": "markdown",
      "source": [
        "# **Evaluasi**"
      ],
      "metadata": {
        "id": "515el16Sz1l5"
      }
    },
    {
      "cell_type": "markdown",
      "source": [
        "### **✅Evaluasi dan Hasil CF**"
      ],
      "metadata": {
        "id": "IBInjP6ImKNQ"
      }
    },
    {
      "cell_type": "code",
      "source": [
        "# Evaluasi CF dan tampilkan hasil\n",
        "def evaluate_cf_verbose(user_id, k=3):\n",
        "    true_items = ratings[(ratings['userId'] == user_id) & (ratings['rating'] >= 4)]['movieId'].tolist()\n",
        "    recommended_items = recommend_cf(user_id, top_n=k)\n",
        "\n",
        "    hits = len(set(true_items) & set(recommended_items))\n",
        "    precision = hits / k\n",
        "    recall = hits / len(true_items) if true_items else 0\n",
        "    f1 = (2 * precision * recall) / (precision + recall) if (precision + recall) else 0\n",
        "\n",
        "    recommended_titles = movies[movies['movieId'].isin(recommended_items)]['title'].tolist()\n",
        "    true_titles = movies[movies['movieId'].isin(true_items)]['title'].tolist()\n",
        "\n",
        "    print(f\"📊 Precision@{k}: {precision:.2f}\")\n",
        "    print(f\"📈 Recall@{k}: {recall:.2f}\")\n",
        "    print(f\"🎯 F1 Score@{k}: {f1:.2f}\\n\")\n",
        "\n",
        "    print(f\"✅ Rekomendasi untuk User {user_id} (Top-{k}):\")\n",
        "    for title in recommended_titles:\n",
        "        print(f\"- {title}\")\n",
        "\n",
        "    print(f\"\\n🎬 Film yang Disukai User (Rating >= 4):\")\n",
        "    for title in true_titles:\n",
        "        print(f\"- {title}\")\n",
        "\n",
        "# Contoh penggunaan:\n",
        "evaluate_cf_verbose(user_id=1, k=10)"
      ],
      "metadata": {
        "id": "BACfmMyVVtip",
        "outputId": "735cdf4b-40e8-4a49-de03-92662539444e",
        "colab": {
          "base_uri": "https://localhost:8080/"
        }
      },
      "execution_count": 41,
      "outputs": [
        {
          "output_type": "stream",
          "name": "stdout",
          "text": [
            "📊 Precision@10: 1.00\n",
            "📈 Recall@10: 0.06\n",
            "🎯 F1 Score@10: 0.12\n",
            "\n",
            "✅ Rekomendasi untuk User 1 (Top-10):\n",
            "- Toy Story (1995)\n",
            "- Usual Suspects, The (1995)\n",
            "- Star Wars (1977)\n",
            "- Blade Runner (1982)\n",
            "- Fargo (1996)\n",
            "- 2001: A Space Odyssey (1968)\n",
            "- Aliens (1986)\n",
            "- Alien (1979)\n",
            "- Chasing Amy (1997)\n",
            "- Full Monty, The (1997)\n",
            "\n",
            "🎬 Film yang Disukai User (Rating >= 4):\n",
            "- Toy Story (1995)\n",
            "- Four Rooms (1995)\n",
            "- Shanghai Triad (Yao a yao yao dao waipo qiao) (1995)\n",
            "- Twelve Monkeys (1995)\n",
            "- Dead Man Walking (1995)\n",
            "- Usual Suspects, The (1995)\n",
            "- Mighty Aphrodite (1995)\n",
            "- Postino, Il (1994)\n",
            "- Mr. Holland's Opus (1995)\n",
            "- French Twist (Gazon maudit) (1995)\n",
            "- White Balloon, The (1995)\n",
            "- Antonia's Line (1995)\n",
            "- Angels and Insects (1995)\n",
            "- Braveheart (1995)\n",
            "- Taxi Driver (1976)\n",
            "- Birdcage, The (1996)\n",
            "- Apollo 13 (1995)\n",
            "- Crumb (1994)\n",
            "- Desperado (1995)\n",
            "- Strange Days (1995)\n",
            "- Clerks (1994)\n",
            "- Disclosure (1994)\n",
            "- Dolores Claiborne (1994)\n",
            "- Eat Drink Man Woman (1994)\n",
            "- Exotica (1994)\n",
            "- Ed Wood (1994)\n",
            "- Hoop Dreams (1994)\n",
            "- Star Wars (1977)\n",
            "- Legends of the Fall (1994)\n",
            "- Madness of King George, The (1994)\n",
            "- Professional, The (1994)\n",
            "- Pulp Fiction (1994)\n",
            "- Priest (1994)\n",
            "- Quiz Show (1994)\n",
            "- Three Colors: Red (1994)\n",
            "- Three Colors: Blue (1993)\n",
            "- Three Colors: White (1994)\n",
            "- Shawshank Redemption, The (1994)\n",
            "- What's Eating Gilbert Grape (1993)\n",
            "- While You Were Sleeping (1995)\n",
            "- Crow, The (1994)\n",
            "- Mask, The (1994)\n",
            "- Brother Minister: The Assassination of Malcolm X (1994)\n",
            "- Carlito's Way (1993)\n",
            "- Firm, The (1993)\n",
            "- Fugitive, The (1993)\n",
            "- Hot Shots! Part Deux (1993)\n",
            "- Hudsucker Proxy, The (1994)\n",
            "- Jurassic Park (1993)\n",
            "- Robert A. Heinlein's The Puppet Masters (1994)\n",
            "- Remains of the Day, The (1993)\n",
            "- Searching for Bobby Fischer (1993)\n",
            "- Sleepless in Seattle (1993)\n",
            "- Blade Runner (1982)\n",
            "- So I Married an Axe Murderer (1993)\n",
            "- Nightmare Before Christmas, The (1993)\n",
            "- Welcome to the Dollhouse (1995)\n",
            "- Aladdin (1992)\n",
            "- Terminator 2: Judgment Day (1991)\n",
            "- Silence of the Lambs, The (1991)\n",
            "- Fargo (1996)\n",
            "- Diabolique (1996)\n",
            "- Moll Flanders (1996)\n",
            "- Kids in the Hall: Brain Candy (1996)\n",
            "- Mystery Science Theater 3000: The Movie (1996)\n",
            "- Truth About Cats & Dogs, The (1996)\n",
            "- Horseman on the Roof, The (Hussard sur le toit, Le) (1995)\n",
            "- Wallace & Gromit: The Best of Aardman Animation (1996)\n",
            "- Haunted World of Edward D. Wood Jr., The (1995)\n",
            "- Maya Lin: A Strong Clear Vision (1994)\n",
            "- Independence Day (ID4) (1996)\n",
            "- Frighteners, The (1996)\n",
            "- Lone Star (1996)\n",
            "- Godfather, The (1972)\n",
            "- Supercop (1992)\n",
            "- Bound (1996)\n",
            "- Wizard of Oz, The (1939)\n",
            "- Gone with the Wind (1939)\n",
            "- Citizen Kane (1941)\n",
            "- 2001: A Space Odyssey (1968)\n",
            "- Big Night (1996)\n",
            "- Die Hard (1988)\n",
            "- Unhook the Stars (1996)\n",
            "- Swingers (1996)\n",
            "- Willy Wonka and the Chocolate Factory (1971)\n",
            "- Sleeper (1973)\n",
            "- Monty Python's Life of Brian (1979)\n",
            "- Reservoir Dogs (1992)\n",
            "- Platoon (1986)\n",
            "- Glengarry Glen Ross (1992)\n",
            "- Top Gun (1986)\n",
            "- On Golden Pond (1981)\n",
            "- Return of the Pink Panther, The (1974)\n",
            "- Jean de Florette (1986)\n",
            "- Manon of the Spring (Manon des sources) (1986)\n",
            "- Monty Python and the Holy Grail (1974)\n",
            "- Wrong Trousers, The (1993)\n",
            "- Cinema Paradiso (1988)\n",
            "- Delicatessen (1991)\n",
            "- Empire Strikes Back, The (1980)\n",
            "- Princess Bride, The (1987)\n",
            "- Raiders of the Lost Ark (1981)\n",
            "- Brazil (1985)\n",
            "- Aliens (1986)\n",
            "- Good, The Bad and The Ugly, The (1966)\n",
            "- 12 Angry Men (1957)\n",
            "- Return of the Jedi (1983)\n",
            "- GoodFellas (1990)\n",
            "- Alien (1979)\n",
            "- Army of Darkness (1993)\n",
            "- Psycho (1960)\n",
            "- Blues Brothers, The (1980)\n",
            "- Godfather: Part II, The (1974)\n",
            "- Henry V (1989)\n",
            "- Amadeus (1984)\n",
            "- Raging Bull (1980)\n",
            "- Right Stuff, The (1983)\n",
            "- Sting, The (1973)\n",
            "- Terminator, The (1984)\n",
            "- Dead Poets Society (1989)\n",
            "- Graduate, The (1967)\n",
            "- Nikita (La Femme Nikita) (1990)\n",
            "- Bridge on the River Kwai, The (1957)\n",
            "- Groundhog Day (1993)\n",
            "- Unforgiven (1992)\n",
            "- Back to the Future (1985)\n",
            "- Akira (1988)\n",
            "- Cyrano de Bergerac (1990)\n",
            "- Young Frankenstein (1974)\n",
            "- This Is Spinal Tap (1984)\n",
            "- Indiana Jones and the Last Crusade (1989)\n",
            "- Unbearable Lightness of Being, The (1988)\n",
            "- Pink Floyd - The Wall (1982)\n",
            "- When Harry Met Sally... (1989)\n",
            "- Breaking the Waves (1996)\n",
            "- Star Trek: First Contact (1996)\n",
            "- Sling Blade (1996)\n",
            "- Ridicule (1996)\n",
            "- Star Trek VI: The Undiscovered Country (1991)\n",
            "- Star Trek: The Wrath of Khan (1982)\n",
            "- Star Trek III: The Search for Spock (1984)\n",
            "- Star Trek IV: The Voyage Home (1986)\n",
            "- Jaws (1975)\n",
            "- Mars Attacks! (1996)\n",
            "- Citizen Ruth (1996)\n",
            "- Raising Arizona (1987)\n",
            "- Sneakers (1992)\n",
            "- Last of the Mohicans, The (1992)\n",
            "- Kolya (1996)\n",
            "- Chasing Amy (1997)\n",
            "- Grosse Pointe Blank (1997)\n",
            "- Austin Powers: International Man of Mystery (1997)\n",
            "- Fifth Element, The (1997)\n",
            "- Shall We Dance? (1996)\n",
            "- Pillow Book, The (1995)\n",
            "- When the Cats Away (Chacun cherche son chat) (1996)\n",
            "- Men in Black (1997)\n",
            "- Contact (1997)\n",
            "- Hunt for Red October, The (1990)\n",
            "- Chasing Amy (1997)\n",
            "- Full Monty, The (1997)\n",
            "- Gattaca (1997)\n"
          ]
        }
      ]
    },
    {
      "cell_type": "markdown",
      "source": [
        "## Interpretasi:\n",
        "**Precision@10: 1.00**\n",
        "\n",
        "Precision yang mendekati 1 berarti hampir semua rekomendasi yang diberikan relevan (maksudnya, dari 10 film yang direkomendasikan, hampir semuanya adalah film yang disukai oleh pengguna).\n",
        "\n",
        "**Recall@10: 0.06**\n",
        "\n",
        "Recall yang rendah menunjukkan bahwa meskipun rekomendasi sangat tepat (high precision), hanya sebagian kecil dari total film relevan yang disukai oleh pengguna yang ditemukan di rekomendasi. Ini mungkin disebabkan oleh jumlah film relevan yang lebih sedikit dibandingkan jumlah rekomendasi yang diberikan.\n",
        "\n",
        "**F1 Score@10: 0.12**\n",
        "\n",
        "F1 Score yang rendah menunjukkan adanya trade-off antara Precision dan Recall, dengan Precision yang baik tetapi Recall yang rendah. Ini bisa jadi karena jumlah film relevan terbatas yang tersedia untuk pengguna, yang membuat recall rendah."
      ],
      "metadata": {
        "id": "oQLl5vbgeDTL"
      }
    },
    {
      "cell_type": "markdown",
      "source": [
        "### **✅Evaluasi dan Hasil CBF**"
      ],
      "metadata": {
        "id": "k6UnXidBmROc"
      }
    },
    {
      "cell_type": "code",
      "source": [
        "# Menampilkan rekomendasi CBF untuk Movie ID 1\n",
        "recommendations_cbf_movie1 = recommend_cbf(movie_id=1, num_recommendations=10)\n",
        "print(\"\\n✅ Rekomendasi CBF untuk Movie ID 1 (Top-10):\")\n",
        "for movie in recommendations_cbf_movie1:\n",
        "    print(f\"- {movie}\")"
      ],
      "metadata": {
        "id": "kzDuQXJFfqmd",
        "outputId": "54d71e11-980d-494c-90ba-87ab9873d775",
        "colab": {
          "base_uri": "https://localhost:8080/"
        }
      },
      "execution_count": 51,
      "outputs": [
        {
          "output_type": "stream",
          "name": "stdout",
          "text": [
            "\n",
            "✅ Rekomendasi CBF untuk Movie ID 1 (Top-10):\n",
            "- Pyromaniac's Love Story, A (1995)\n",
            "- Balto (1995)\n",
            "- Goofy Movie, A (1995)\n",
            "- NeverEnding Story III, The (1994)\n",
            "- Pocahontas (1995)\n",
            "- FairyTale: A True Story (1997)\n",
            "- Philadelphia Story, The (1940)\n",
            "- Story of Xinghua, The (1993)\n",
            "- Gumby: The Movie (1995)\n",
            "- Aladdin (1992)\n"
          ]
        }
      ]
    },
    {
      "cell_type": "code",
      "source": [
        "# --- Evaluasi CBF ---\n",
        "\n",
        "# Ambil daftar film yang mirip berdasarkan CBF (judul film direkomendasikan)\n",
        "recommended_titles = set(recommendations_cbf_movie1)\n",
        "\n",
        "# Ambil daftar user yang memberi rating >= 4 untuk Movie ID 1\n",
        "users_who_liked_movie1 = ratings[(ratings['movieId'] == 1) & (ratings['rating'] >= 4)]['userId'].unique()\n",
        "\n",
        "# Ambil semua movieId yang disukai (rating >= 4) oleh user-user tersebut, selain movie_id 1\n",
        "relevant_movies = ratings[(ratings['userId'].isin(users_who_liked_movie1)) &\n",
        "                          (ratings['rating'] >= 4) &\n",
        "                          (ratings['movieId'] != 1)]\n",
        "\n",
        "# Ambil judul film relevan tersebut\n",
        "relevant_titles = set(movies[movies['movieId'].isin(relevant_movies['movieId'])]['title'])\n",
        "\n",
        "# Hitung metrik evaluasi\n",
        "true_positives = len(recommended_titles & relevant_titles)\n",
        "precision = true_positives / len(recommended_titles) if recommended_titles else 0\n",
        "recall = true_positives / len(relevant_titles) if relevant_titles else 0\n",
        "f1_score = (2 * precision * recall) / (precision + recall) if (precision + recall) > 0 else 0\n",
        "\n",
        "# Tampilkan hasil evaluasi\n",
        "print(\"\\n📊 Evaluasi CBF untuk Movie ID 1:\")\n",
        "print(f\"Precision@10: {precision:.2f}\")\n",
        "print(f\"Recall@10: {recall:.2f}\")\n",
        "print(f\"F1 Score@10: {f1_score:.2f}\")"
      ],
      "metadata": {
        "id": "4HXPNjwHfyTq",
        "outputId": "072986d1-fda4-491a-d555-0bae2582096b",
        "colab": {
          "base_uri": "https://localhost:8080/"
        }
      },
      "execution_count": 52,
      "outputs": [
        {
          "output_type": "stream",
          "name": "stdout",
          "text": [
            "\n",
            "📊 Evaluasi CBF untuk Movie ID 1:\n",
            "Precision@10: 0.70\n",
            "Recall@10: 0.01\n",
            "F1 Score@10: 0.01\n"
          ]
        }
      ]
    },
    {
      "cell_type": "markdown",
      "source": [
        "## Interpretasi:\n",
        "**Precision@10 = 0.70** → Dari 10 film yang direkomendasikan, hanya 7 yang dianggap relevan (disukai oleh user yang juga menyukai Movie ID 1).\n",
        "\n",
        "**Recall@10 = 0.01** → Dari semua film yang disukai oleh user yang juga menyukai Movie ID 1, hanya 1% yang berhasil ditemukan dalam rekomendasi.\n",
        "\n",
        "**F1 Score = 0.01** → Meskipun precision tinggi (0.70), recall yang sangat rendah (0.01) membuat F1 score ikut rendah. Ini berarti bahwa meskipun sebagian besar film yang direkomendasikan memang relevan, sistem hanya mampu menjangkau sebagian sangat kecil dari semua film relevan yang seharusnya direkomendasikan. Dengan kata lain, kualitas rekomendasi cukup akurat, tapi masih belum menyeluruh."
      ],
      "metadata": {
        "id": "vlge0CzEjLlp"
      }
    },
    {
      "cell_type": "markdown",
      "source": [
        "### **✅Evaluasi dan Hasil Hybrid (CF-CBF)**"
      ],
      "metadata": {
        "id": "8rQVoOuZoUpD"
      }
    },
    {
      "cell_type": "code",
      "source": [
        "# Evaluasi Hybrid dan tampilkan hasil\n",
        "def evaluate_hybrid_verbose(user_id, alpha=0.5, k=10):\n",
        "    true_items = ratings[(ratings['userId'] == user_id) & (ratings['rating'] >= 4)]['movieId'].tolist()\n",
        "    recommended_items = recommend_hybrid(user_id, alpha=alpha, top_n=k)\n",
        "\n",
        "    hits = len(set(true_items) & set(recommended_items))\n",
        "    precision = hits / k\n",
        "    recall = hits / len(true_items) if true_items else 0\n",
        "    f1 = (2 * precision * recall) / (precision + recall) if (precision + recall) else 0\n",
        "\n",
        "    recommended_titles = movies[movies['movieId'].isin(recommended_items)]['title'].tolist()\n",
        "    true_titles = movies[movies['movieId'].isin(true_items)]['title'].tolist()\n",
        "\n",
        "    print(f\"📊 Precision@{k}: {precision:.2f}\")\n",
        "    print(f\"📈 Recall@{k}: {recall:.2f}\")\n",
        "    print(f\"🎯 F1 Score@{k}: {f1:.2f}\\n\")\n",
        "\n",
        "    print(f\"✅ Rekomendasi Hybrid untuk User {user_id} (Top-{k}):\")\n",
        "    for title in recommended_titles:\n",
        "        print(f\"- {title}\")\n",
        "\n",
        "    print(f\"\\n🎬 Film yang Disukai User (Rating >= 4):\")\n",
        "    for title in true_titles:\n",
        "        print(f\"- {title}\")"
      ],
      "metadata": {
        "id": "liBsXTVHoin8"
      },
      "execution_count": 54,
      "outputs": []
    },
    {
      "cell_type": "code",
      "source": [
        "evaluate_hybrid_verbose(user_id=1, alpha=0.5, k=10)"
      ],
      "metadata": {
        "id": "-Ys8BzHYomHi",
        "outputId": "5ab9a7fd-3969-46ad-aa4d-cda9764f0ba1",
        "colab": {
          "base_uri": "https://localhost:8080/"
        }
      },
      "execution_count": 55,
      "outputs": [
        {
          "output_type": "stream",
          "name": "stdout",
          "text": [
            "📊 Precision@10: 1.00\n",
            "📈 Recall@10: 0.06\n",
            "🎯 F1 Score@10: 0.12\n",
            "\n",
            "✅ Rekomendasi Hybrid untuk User 1 (Top-10):\n",
            "- Star Wars (1977)\n",
            "- Fargo (1996)\n",
            "- Empire Strikes Back, The (1980)\n",
            "- Aliens (1986)\n",
            "- Alien (1979)\n",
            "- Terminator, The (1984)\n",
            "- Star Trek: First Contact (1996)\n",
            "- Sneakers (1992)\n",
            "- Men in Black (1997)\n",
            "- Contact (1997)\n",
            "\n",
            "🎬 Film yang Disukai User (Rating >= 4):\n",
            "- Toy Story (1995)\n",
            "- Four Rooms (1995)\n",
            "- Shanghai Triad (Yao a yao yao dao waipo qiao) (1995)\n",
            "- Twelve Monkeys (1995)\n",
            "- Dead Man Walking (1995)\n",
            "- Usual Suspects, The (1995)\n",
            "- Mighty Aphrodite (1995)\n",
            "- Postino, Il (1994)\n",
            "- Mr. Holland's Opus (1995)\n",
            "- French Twist (Gazon maudit) (1995)\n",
            "- White Balloon, The (1995)\n",
            "- Antonia's Line (1995)\n",
            "- Angels and Insects (1995)\n",
            "- Braveheart (1995)\n",
            "- Taxi Driver (1976)\n",
            "- Birdcage, The (1996)\n",
            "- Apollo 13 (1995)\n",
            "- Crumb (1994)\n",
            "- Desperado (1995)\n",
            "- Strange Days (1995)\n",
            "- Clerks (1994)\n",
            "- Disclosure (1994)\n",
            "- Dolores Claiborne (1994)\n",
            "- Eat Drink Man Woman (1994)\n",
            "- Exotica (1994)\n",
            "- Ed Wood (1994)\n",
            "- Hoop Dreams (1994)\n",
            "- Star Wars (1977)\n",
            "- Legends of the Fall (1994)\n",
            "- Madness of King George, The (1994)\n",
            "- Professional, The (1994)\n",
            "- Pulp Fiction (1994)\n",
            "- Priest (1994)\n",
            "- Quiz Show (1994)\n",
            "- Three Colors: Red (1994)\n",
            "- Three Colors: Blue (1993)\n",
            "- Three Colors: White (1994)\n",
            "- Shawshank Redemption, The (1994)\n",
            "- What's Eating Gilbert Grape (1993)\n",
            "- While You Were Sleeping (1995)\n",
            "- Crow, The (1994)\n",
            "- Mask, The (1994)\n",
            "- Brother Minister: The Assassination of Malcolm X (1994)\n",
            "- Carlito's Way (1993)\n",
            "- Firm, The (1993)\n",
            "- Fugitive, The (1993)\n",
            "- Hot Shots! Part Deux (1993)\n",
            "- Hudsucker Proxy, The (1994)\n",
            "- Jurassic Park (1993)\n",
            "- Robert A. Heinlein's The Puppet Masters (1994)\n",
            "- Remains of the Day, The (1993)\n",
            "- Searching for Bobby Fischer (1993)\n",
            "- Sleepless in Seattle (1993)\n",
            "- Blade Runner (1982)\n",
            "- So I Married an Axe Murderer (1993)\n",
            "- Nightmare Before Christmas, The (1993)\n",
            "- Welcome to the Dollhouse (1995)\n",
            "- Aladdin (1992)\n",
            "- Terminator 2: Judgment Day (1991)\n",
            "- Silence of the Lambs, The (1991)\n",
            "- Fargo (1996)\n",
            "- Diabolique (1996)\n",
            "- Moll Flanders (1996)\n",
            "- Kids in the Hall: Brain Candy (1996)\n",
            "- Mystery Science Theater 3000: The Movie (1996)\n",
            "- Truth About Cats & Dogs, The (1996)\n",
            "- Horseman on the Roof, The (Hussard sur le toit, Le) (1995)\n",
            "- Wallace & Gromit: The Best of Aardman Animation (1996)\n",
            "- Haunted World of Edward D. Wood Jr., The (1995)\n",
            "- Maya Lin: A Strong Clear Vision (1994)\n",
            "- Independence Day (ID4) (1996)\n",
            "- Frighteners, The (1996)\n",
            "- Lone Star (1996)\n",
            "- Godfather, The (1972)\n",
            "- Supercop (1992)\n",
            "- Bound (1996)\n",
            "- Wizard of Oz, The (1939)\n",
            "- Gone with the Wind (1939)\n",
            "- Citizen Kane (1941)\n",
            "- 2001: A Space Odyssey (1968)\n",
            "- Big Night (1996)\n",
            "- Die Hard (1988)\n",
            "- Unhook the Stars (1996)\n",
            "- Swingers (1996)\n",
            "- Willy Wonka and the Chocolate Factory (1971)\n",
            "- Sleeper (1973)\n",
            "- Monty Python's Life of Brian (1979)\n",
            "- Reservoir Dogs (1992)\n",
            "- Platoon (1986)\n",
            "- Glengarry Glen Ross (1992)\n",
            "- Top Gun (1986)\n",
            "- On Golden Pond (1981)\n",
            "- Return of the Pink Panther, The (1974)\n",
            "- Jean de Florette (1986)\n",
            "- Manon of the Spring (Manon des sources) (1986)\n",
            "- Monty Python and the Holy Grail (1974)\n",
            "- Wrong Trousers, The (1993)\n",
            "- Cinema Paradiso (1988)\n",
            "- Delicatessen (1991)\n",
            "- Empire Strikes Back, The (1980)\n",
            "- Princess Bride, The (1987)\n",
            "- Raiders of the Lost Ark (1981)\n",
            "- Brazil (1985)\n",
            "- Aliens (1986)\n",
            "- Good, The Bad and The Ugly, The (1966)\n",
            "- 12 Angry Men (1957)\n",
            "- Return of the Jedi (1983)\n",
            "- GoodFellas (1990)\n",
            "- Alien (1979)\n",
            "- Army of Darkness (1993)\n",
            "- Psycho (1960)\n",
            "- Blues Brothers, The (1980)\n",
            "- Godfather: Part II, The (1974)\n",
            "- Henry V (1989)\n",
            "- Amadeus (1984)\n",
            "- Raging Bull (1980)\n",
            "- Right Stuff, The (1983)\n",
            "- Sting, The (1973)\n",
            "- Terminator, The (1984)\n",
            "- Dead Poets Society (1989)\n",
            "- Graduate, The (1967)\n",
            "- Nikita (La Femme Nikita) (1990)\n",
            "- Bridge on the River Kwai, The (1957)\n",
            "- Groundhog Day (1993)\n",
            "- Unforgiven (1992)\n",
            "- Back to the Future (1985)\n",
            "- Akira (1988)\n",
            "- Cyrano de Bergerac (1990)\n",
            "- Young Frankenstein (1974)\n",
            "- This Is Spinal Tap (1984)\n",
            "- Indiana Jones and the Last Crusade (1989)\n",
            "- Unbearable Lightness of Being, The (1988)\n",
            "- Pink Floyd - The Wall (1982)\n",
            "- When Harry Met Sally... (1989)\n",
            "- Breaking the Waves (1996)\n",
            "- Star Trek: First Contact (1996)\n",
            "- Sling Blade (1996)\n",
            "- Ridicule (1996)\n",
            "- Star Trek VI: The Undiscovered Country (1991)\n",
            "- Star Trek: The Wrath of Khan (1982)\n",
            "- Star Trek III: The Search for Spock (1984)\n",
            "- Star Trek IV: The Voyage Home (1986)\n",
            "- Jaws (1975)\n",
            "- Mars Attacks! (1996)\n",
            "- Citizen Ruth (1996)\n",
            "- Raising Arizona (1987)\n",
            "- Sneakers (1992)\n",
            "- Last of the Mohicans, The (1992)\n",
            "- Kolya (1996)\n",
            "- Chasing Amy (1997)\n",
            "- Grosse Pointe Blank (1997)\n",
            "- Austin Powers: International Man of Mystery (1997)\n",
            "- Fifth Element, The (1997)\n",
            "- Shall We Dance? (1996)\n",
            "- Pillow Book, The (1995)\n",
            "- When the Cats Away (Chacun cherche son chat) (1996)\n",
            "- Men in Black (1997)\n",
            "- Contact (1997)\n",
            "- Hunt for Red October, The (1990)\n",
            "- Chasing Amy (1997)\n",
            "- Full Monty, The (1997)\n",
            "- Gattaca (1997)\n"
          ]
        }
      ]
    },
    {
      "cell_type": "markdown",
      "source": [
        "## Interpretasi:\n",
        "**📊 Precision@10: 1.00**\n",
        "\n",
        "Artinya 10 dari 10 film yang direkomendasikan ternyata disukai user (rating ≥ 4). Ini menunjukkan akurasi rekomendasi sangat tinggi dalam hal kesesuaian.\n",
        "\n",
        "**📈 Recall@10: 0.06**\n",
        "\n",
        "Dari semua film yang disukai oleh user, hanya sekitar 6% yang berhasil ditangkap oleh Top-10 rekomendasi. Ini menunjukkan bahwa cakupan rekomendasi masih terbatas terhadap keseluruhan preferensi user.\n",
        "\n",
        "**🎯 F1 Score@10: 0.12**\n",
        "\n",
        "Kombinasi dari precision dan recall. Meskipun precision sangat tinggi, recall yang rendah menurunkan F1 Score, artinya model masih bisa ditingkatkan dalam menjangkau lebih banyak film relevan bagi user."
      ],
      "metadata": {
        "id": "bkCR941Lo8zU"
      }
    },
    {
      "cell_type": "markdown",
      "source": [
        "# **Kesimpulan :**\n",
        "\n",
        "Hasil evaluasi menunjukkan bahwa model **Collaborative Filtering**, **Content-Based Filtering**, dan **Hybrid Filtering** memiliki precision yang tinggi, walau recall masih rendah. Artinya, sistem mampu memberikan rekomendasi yang sangat akurat (film yang direkomendasikan memang disukai pengguna), walau belum mampu menjangkau semua film relevan yang mungkin disukai oleh pengguna.\n",
        "\n",
        "- Precision tinggi (1.00) → rekomendasi tepat sasaran, meningkatkan kepercayaan dan kenyamanan pengguna.\n",
        "\n",
        "- Recall rendah (0.06) → sistem belum mampu menjangkau seluruh preferensi pengguna, tetapi tetap menjaga kualitas rekomendasi.\n",
        "\n",
        "- F1 Score rendah (0.12) → menjadi sinyal bahwa cakupan sistem masih bisa dikembangkan lebih luas untuk memperbaiki keseimbangan akurasi dan jangkauan."
      ],
      "metadata": {
        "id": "kj2n-z2I-2Uk"
      }
    },
    {
      "cell_type": "markdown",
      "source": [
        "## **💡 Analisis Dampak terhadap Business Understanding**"
      ],
      "metadata": {
        "id": "jgu4MrAku5D5"
      }
    },
    {
      "cell_type": "markdown",
      "source": [
        "1. **Rekomendasi berkualitas tinggi**, meskipun belum mencakup semua kemungkinan preferensi.\n",
        "\n",
        "  - Ini cocok dengan hasil precision tinggi → sistem sudah efektif untuk menyajikan film yang pasti disukai.\n",
        "\n",
        "2. **Efisiensi dan kepercayaan pengguna** dalam eksplorasi konten.\n",
        "\n",
        "  - Dengan rekomendasi yang tepat sasaran, pengguna lebih percaya dan nyaman mengikuti saran sistem, mendorong engagement harian."
      ],
      "metadata": {
        "id": "7d4F9BVCvBum"
      }
    },
    {
      "cell_type": "code",
      "source": [
        "import pandas as pd\n",
        "from tabulate import tabulate\n",
        "\n",
        "# Data ringkasan dampak\n",
        "data = {\n",
        "    \"Goals\": [\n",
        "        \"Menyediakan rekomendasi film dengan akurasi tinggi\",\n",
        "        \"Fokus pada top picks yang benar-benar relevan\"\n",
        "    ],\n",
        "    \"Evaluasi Model\": [\n",
        "        \"Precision tinggi (1.00)\",\n",
        "        \"Rekomendasi relevan & tepat sasaran\"\n",
        "    ],\n",
        "    \"Dampak terhadap Business Understanding\": [\n",
        "        \"✅ Meningkatkan kepuasan & retensi pengguna\",\n",
        "        \"✅ Memperkuat kualitas rekomendasi\"\n",
        "    ]\n",
        "}\n",
        "\n",
        "# Membuat DataFrame\n",
        "df = pd.DataFrame(data)\n",
        "\n",
        "# Menampilkan tabel dalam format grid\n",
        "print(tabulate(df, headers=\"keys\", tablefmt=\"grid\", showindex=False))"
      ],
      "metadata": {
        "id": "pK9A2RlMumoi",
        "outputId": "b6ab7204-4f45-46ed-c378-e2798b2485f6",
        "colab": {
          "base_uri": "https://localhost:8080/"
        }
      },
      "execution_count": 59,
      "outputs": [
        {
          "output_type": "stream",
          "name": "stdout",
          "text": [
            "+----------------------------------------------------+-------------------------------------+---------------------------------------------+\n",
            "| Goals                                              | Evaluasi Model                      | Dampak terhadap Business Understanding      |\n",
            "+====================================================+=====================================+=============================================+\n",
            "| Menyediakan rekomendasi film dengan akurasi tinggi | Precision tinggi (1.00)             | ✅ Meningkatkan kepuasan & retensi pengguna |\n",
            "+----------------------------------------------------+-------------------------------------+---------------------------------------------+\n",
            "| Fokus pada top picks yang benar-benar relevan      | Rekomendasi relevan & tepat sasaran | ✅ Memperkuat kualitas rekomendasi          |\n",
            "+----------------------------------------------------+-------------------------------------+---------------------------------------------+\n"
          ]
        }
      ]
    }
  ]
}